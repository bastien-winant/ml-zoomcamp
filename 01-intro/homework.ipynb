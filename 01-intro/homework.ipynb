{
 "cells": [
  {
   "metadata": {},
   "cell_type": "markdown",
   "source": [
    "# Homework\n",
    "## Setting up the environment\n",
    "### Q1. Pandas version"
   ],
   "id": "7128c35df3be766e"
  },
  {
   "cell_type": "code",
   "id": "initial_id",
   "metadata": {
    "collapsed": true,
    "ExecuteTime": {
     "end_time": "2025-10-01T19:56:17.530829Z",
     "start_time": "2025-10-01T19:56:17.526124Z"
    }
   },
   "source": [
    "import numpy as np\n",
    "import pandas as pd"
   ],
   "outputs": [],
   "execution_count": 130
  },
  {
   "metadata": {
    "ExecuteTime": {
     "end_time": "2025-10-01T19:56:17.551291Z",
     "start_time": "2025-10-01T19:56:17.544704Z"
    }
   },
   "cell_type": "code",
   "source": "pd.__version__",
   "id": "da8e449f6f3936b5",
   "outputs": [
    {
     "data": {
      "text/plain": [
       "'2.3.3'"
      ]
     },
     "execution_count": 131,
     "metadata": {},
     "output_type": "execute_result"
    }
   ],
   "execution_count": 131
  },
  {
   "metadata": {},
   "cell_type": "markdown",
   "source": "## Getting the data",
   "id": "b5d78890615a7995"
  },
  {
   "metadata": {
    "ExecuteTime": {
     "end_time": "2025-10-01T19:56:17.755489Z",
     "start_time": "2025-10-01T19:56:17.568934Z"
    }
   },
   "cell_type": "code",
   "source": "df = pd.read_csv('https://raw.githubusercontent.com/alexeygrigorev/datasets/master/car_fuel_efficiency.csv')",
   "id": "c51f5af63b833c4c",
   "outputs": [],
   "execution_count": 132
  },
  {
   "metadata": {},
   "cell_type": "markdown",
   "source": "### Q2. Records count",
   "id": "8ccb2bce1b3c639c"
  },
  {
   "metadata": {
    "ExecuteTime": {
     "end_time": "2025-10-01T19:56:17.772957Z",
     "start_time": "2025-10-01T19:56:17.766881Z"
    }
   },
   "cell_type": "code",
   "source": "print('Number of records: ', df.shape[0])",
   "id": "17b0d0126efbf30",
   "outputs": [
    {
     "name": "stdout",
     "output_type": "stream",
     "text": [
      "Number of records:  9704\n"
     ]
    }
   ],
   "execution_count": 133
  },
  {
   "metadata": {},
   "cell_type": "markdown",
   "source": [
    "### Q3. Fuel types\n",
    "How many fuel types are presented in the dataset?"
   ],
   "id": "b2b40c56ab3a199f"
  },
  {
   "metadata": {
    "ExecuteTime": {
     "end_time": "2025-10-01T19:56:17.831660Z",
     "start_time": "2025-10-01T19:56:17.792310Z"
    }
   },
   "cell_type": "code",
   "source": "print('Number of different fuel types: ', df.fuel_type.nunique())",
   "id": "ae93f6e9cd09b236",
   "outputs": [
    {
     "name": "stdout",
     "output_type": "stream",
     "text": [
      "Number of different fuel types:  2\n"
     ]
    }
   ],
   "execution_count": 134
  },
  {
   "metadata": {},
   "cell_type": "markdown",
   "source": [
    "### Q4. Missing values\n",
    "How many columns in the dataset have missing values?"
   ],
   "id": "2e63529d7e75aee9"
  },
  {
   "metadata": {
    "ExecuteTime": {
     "end_time": "2025-10-01T19:56:17.854718Z",
     "start_time": "2025-10-01T19:56:17.845076Z"
    }
   },
   "cell_type": "code",
   "source": "print('Number of columns with missing values: ', (df.isna().sum() > 0).sum())",
   "id": "15006442076ebeba",
   "outputs": [
    {
     "name": "stdout",
     "output_type": "stream",
     "text": [
      "Number of columns with missing values:  4\n"
     ]
    }
   ],
   "execution_count": 135
  },
  {
   "metadata": {},
   "cell_type": "markdown",
   "source": [
    "### Q5. Max fuel efficiency\n",
    "What's the maximum fuel efficiency of cars from Asia?"
   ],
   "id": "891d58f77aa75e79"
  },
  {
   "metadata": {
    "ExecuteTime": {
     "end_time": "2025-10-01T19:56:17.889236Z",
     "start_time": "2025-10-01T19:56:17.880429Z"
    }
   },
   "cell_type": "code",
   "source": "print('Max fuel efficiency for cars from Asia: ', df.loc[df.origin == 'Asia'].fuel_efficiency_mpg.max())",
   "id": "dc77da3331239327",
   "outputs": [
    {
     "name": "stdout",
     "output_type": "stream",
     "text": [
      "Max fuel efficiency for cars from Asia:  23.759122836520497\n"
     ]
    }
   ],
   "execution_count": 136
  },
  {
   "metadata": {},
   "cell_type": "markdown",
   "source": [
    "### Q6. Median value of horsepower\n",
    "- Find the median value of the horsepower column in the dataset.\n",
    "- Next, calculate the most frequent value of the same horsepower column.\n",
    "- Use the fillna method to fill the missing values in the horsepower column with the most frequent value from the previous step.\n",
    "- Now, calculate the median value of horsepower once again."
   ],
   "id": "870e5588959abf1c"
  },
  {
   "metadata": {
    "ExecuteTime": {
     "end_time": "2025-10-01T19:56:17.938673Z",
     "start_time": "2025-10-01T19:56:17.925930Z"
    }
   },
   "cell_type": "code",
   "source": [
    "print(\"Media horsepower before filling missing values: \", df.horsepower.median())\n",
    "mode = df.horsepower.mode()[0]\n",
    "df.fillna({'horsepower': mode}, inplace=True)\n",
    "print(\"Media horsepower after filling missing values: \", df.horsepower.median())"
   ],
   "id": "6b5fc4d73d8b631d",
   "outputs": [
    {
     "name": "stdout",
     "output_type": "stream",
     "text": [
      "Media horsepower before filling missing values:  149.0\n",
      "Media horsepower after filling missing values:  152.0\n"
     ]
    }
   ],
   "execution_count": 137
  },
  {
   "metadata": {},
   "cell_type": "markdown",
   "source": "### Q7. Sum of weights",
   "id": "94ab9cd7cd7a2cae"
  },
  {
   "metadata": {
    "ExecuteTime": {
     "end_time": "2025-10-01T19:56:17.985267Z",
     "start_time": "2025-10-01T19:56:17.976506Z"
    }
   },
   "cell_type": "code",
   "source": "X = df.loc[df.origin == 'Asia', ['vehicle_weight', 'model_year']][:7].values",
   "id": "1cb34c4a83c2997",
   "outputs": [],
   "execution_count": 138
  },
  {
   "metadata": {
    "ExecuteTime": {
     "end_time": "2025-10-01T19:56:17.999187Z",
     "start_time": "2025-10-01T19:56:17.995667Z"
    }
   },
   "cell_type": "code",
   "source": "XTX = X.T @ X",
   "id": "c9f987705e42f030",
   "outputs": [],
   "execution_count": 139
  },
  {
   "metadata": {
    "ExecuteTime": {
     "end_time": "2025-10-01T19:56:18.017142Z",
     "start_time": "2025-10-01T19:56:18.012632Z"
    }
   },
   "cell_type": "code",
   "source": "y = np.array([1100, 1300, 800, 900, 1000, 1100, 1200])",
   "id": "bff1f28dd5070d8d",
   "outputs": [],
   "execution_count": 140
  },
  {
   "metadata": {
    "ExecuteTime": {
     "end_time": "2025-10-01T19:56:18.032649Z",
     "start_time": "2025-10-01T19:56:18.028711Z"
    }
   },
   "cell_type": "code",
   "source": "w = (np.linalg.inv(XTX) @ X.T) @ y",
   "id": "6ebf8a3394d69a7c",
   "outputs": [],
   "execution_count": 141
  },
  {
   "metadata": {
    "ExecuteTime": {
     "end_time": "2025-10-01T19:56:18.057441Z",
     "start_time": "2025-10-01T19:56:18.046324Z"
    }
   },
   "cell_type": "code",
   "source": "w.sum()",
   "id": "7d3aff20d834e110",
   "outputs": [
    {
     "data": {
      "text/plain": [
       "np.float64(0.5187709081073995)"
      ]
     },
     "execution_count": 142,
     "metadata": {},
     "output_type": "execute_result"
    }
   ],
   "execution_count": 142
  }
 ],
 "metadata": {
  "kernelspec": {
   "display_name": "Python 3",
   "language": "python",
   "name": "python3"
  },
  "language_info": {
   "codemirror_mode": {
    "name": "ipython",
    "version": 2
   },
   "file_extension": ".py",
   "mimetype": "text/x-python",
   "name": "python",
   "nbconvert_exporter": "python",
   "pygments_lexer": "ipython2",
   "version": "2.7.6"
  }
 },
 "nbformat": 4,
 "nbformat_minor": 5
}
