{
 "cells": [
  {
   "metadata": {},
   "cell_type": "markdown",
   "source": [
    "# Homework\n",
    "## Preparing the data"
   ],
   "id": "9818e434ffd5fb98"
  },
  {
   "cell_type": "code",
   "id": "initial_id",
   "metadata": {
    "collapsed": true,
    "ExecuteTime": {
     "end_time": "2025-10-06T23:51:47.859898Z",
     "start_time": "2025-10-06T23:51:47.855329Z"
    }
   },
   "source": [
    "import pandas as pd\n",
    "import numpy as np\n",
    "import matplotlib.pyplot as plt\n",
    "import seaborn as sns\n",
    "from sklearn.linear_model import LinearRegression"
   ],
   "outputs": [],
   "execution_count": 132
  },
  {
   "metadata": {
    "ExecuteTime": {
     "end_time": "2025-10-06T23:51:48.190560Z",
     "start_time": "2025-10-06T23:51:47.872532Z"
    }
   },
   "cell_type": "code",
   "source": "df = pd.read_csv('https://raw.githubusercontent.com/alexeygrigorev/datasets/master/car_fuel_efficiency.csv')",
   "id": "a1860f228e1669d7",
   "outputs": [],
   "execution_count": 133
  },
  {
   "metadata": {
    "ExecuteTime": {
     "end_time": "2025-10-06T23:51:48.203151Z",
     "start_time": "2025-10-06T23:51:48.198685Z"
    }
   },
   "cell_type": "code",
   "source": [
    "feature_cols = [\n",
    "\t'engine_displacement',\n",
    "\t'horsepower',\n",
    "\t'vehicle_weight',\n",
    "\t'model_year',\n",
    "\t'fuel_efficiency_mpg'\n",
    "]\n",
    "df = df.loc[:, feature_cols]"
   ],
   "id": "64cf332b991d056a",
   "outputs": [],
   "execution_count": 134
  },
  {
   "metadata": {},
   "cell_type": "markdown",
   "source": "## EDA",
   "id": "18b7fa375aef4d4f"
  },
  {
   "metadata": {
    "ExecuteTime": {
     "end_time": "2025-10-06T23:51:48.224007Z",
     "start_time": "2025-10-06T23:51:48.212799Z"
    }
   },
   "cell_type": "code",
   "source": "df.head()",
   "id": "7f9a94aca0edcf42",
   "outputs": [
    {
     "data": {
      "text/plain": [
       "   engine_displacement  horsepower  vehicle_weight  model_year  \\\n",
       "0                  170       159.0     3413.433759        2003   \n",
       "1                  130        97.0     3149.664934        2007   \n",
       "2                  170        78.0     3079.038997        2018   \n",
       "3                  220         NaN     2542.392402        2009   \n",
       "4                  210       140.0     3460.870990        2009   \n",
       "\n",
       "   fuel_efficiency_mpg  \n",
       "0            13.231729  \n",
       "1            13.688217  \n",
       "2            14.246341  \n",
       "3            16.912736  \n",
       "4            12.488369  "
      ],
      "text/html": [
       "<div>\n",
       "<style scoped>\n",
       "    .dataframe tbody tr th:only-of-type {\n",
       "        vertical-align: middle;\n",
       "    }\n",
       "\n",
       "    .dataframe tbody tr th {\n",
       "        vertical-align: top;\n",
       "    }\n",
       "\n",
       "    .dataframe thead th {\n",
       "        text-align: right;\n",
       "    }\n",
       "</style>\n",
       "<table border=\"1\" class=\"dataframe\">\n",
       "  <thead>\n",
       "    <tr style=\"text-align: right;\">\n",
       "      <th></th>\n",
       "      <th>engine_displacement</th>\n",
       "      <th>horsepower</th>\n",
       "      <th>vehicle_weight</th>\n",
       "      <th>model_year</th>\n",
       "      <th>fuel_efficiency_mpg</th>\n",
       "    </tr>\n",
       "  </thead>\n",
       "  <tbody>\n",
       "    <tr>\n",
       "      <th>0</th>\n",
       "      <td>170</td>\n",
       "      <td>159.0</td>\n",
       "      <td>3413.433759</td>\n",
       "      <td>2003</td>\n",
       "      <td>13.231729</td>\n",
       "    </tr>\n",
       "    <tr>\n",
       "      <th>1</th>\n",
       "      <td>130</td>\n",
       "      <td>97.0</td>\n",
       "      <td>3149.664934</td>\n",
       "      <td>2007</td>\n",
       "      <td>13.688217</td>\n",
       "    </tr>\n",
       "    <tr>\n",
       "      <th>2</th>\n",
       "      <td>170</td>\n",
       "      <td>78.0</td>\n",
       "      <td>3079.038997</td>\n",
       "      <td>2018</td>\n",
       "      <td>14.246341</td>\n",
       "    </tr>\n",
       "    <tr>\n",
       "      <th>3</th>\n",
       "      <td>220</td>\n",
       "      <td>NaN</td>\n",
       "      <td>2542.392402</td>\n",
       "      <td>2009</td>\n",
       "      <td>16.912736</td>\n",
       "    </tr>\n",
       "    <tr>\n",
       "      <th>4</th>\n",
       "      <td>210</td>\n",
       "      <td>140.0</td>\n",
       "      <td>3460.870990</td>\n",
       "      <td>2009</td>\n",
       "      <td>12.488369</td>\n",
       "    </tr>\n",
       "  </tbody>\n",
       "</table>\n",
       "</div>"
      ]
     },
     "execution_count": 135,
     "metadata": {},
     "output_type": "execute_result"
    }
   ],
   "execution_count": 135
  },
  {
   "metadata": {
    "ExecuteTime": {
     "end_time": "2025-10-06T23:51:48.581800Z",
     "start_time": "2025-10-06T23:51:48.295306Z"
    }
   },
   "cell_type": "code",
   "source": [
    "sns.histplot(df, x=\"fuel_efficiency_mpg\", bins=20)\n",
    "plt.title(\"Fuel Efficiency Distributions\")\n",
    "plt.xlabel(\"Miles/Gallon\")\n",
    "plt.show()"
   ],
   "id": "cc2d7bf8dc428272",
   "outputs": [
    {
     "data": {
      "text/plain": [
       "<Figure size 640x480 with 1 Axes>"
      ],
      "image/png": "[encoded data removed]"
     },
     "metadata": {},
     "output_type": "display_data",
     "jetTransient": {
      "display_id": null
     }
    }
   ],
   "execution_count": 136
  },
  {
   "metadata": {},
   "cell_type": "markdown",
   "source": "> The `fuel_efficiency_mpg` does not show significant skew",
   "id": "e19534f3d6937520"
  },
  {
   "metadata": {},
   "cell_type": "markdown",
   "source": [
    "### Question 1\n",
    "There's one column with missing values. What is it?"
   ],
   "id": "4d4de9b1a66edfc1"
  },
  {
   "metadata": {
    "ExecuteTime": {
     "end_time": "2025-10-06T23:51:48.733835Z",
     "start_time": "2025-10-06T23:51:48.724329Z"
    }
   },
   "cell_type": "code",
   "source": "print(\"Columns with missing values:\", list(df.columns[df.isna().sum() > 0]))",
   "id": "e4438eeb7cba09be",
   "outputs": [
    {
     "name": "stdout",
     "output_type": "stream",
     "text": [
      "Columns with missing values: ['horsepower']\n"
     ]
    }
   ],
   "execution_count": 137
  },
  {
   "metadata": {},
   "cell_type": "markdown",
   "source": [
    "### Question 2\n",
    "What's the median (50% percentile) for variable 'horsepower'?"
   ],
   "id": "74b940f3b68d2bf"
  },
  {
   "metadata": {
    "ExecuteTime": {
     "end_time": "2025-10-06T23:51:48.791144Z",
     "start_time": "2025-10-06T23:51:48.786613Z"
    }
   },
   "cell_type": "code",
   "source": "print(\"Median of the 'horsepower' variable: \", df.horsepower.median())",
   "id": "4b31de6040a58ef1",
   "outputs": [
    {
     "name": "stdout",
     "output_type": "stream",
     "text": [
      "Median of the 'horsepower' variable:  149.0\n"
     ]
    }
   ],
   "execution_count": 138
  },
  {
   "metadata": {},
   "cell_type": "markdown",
   "source": "## Splitting the dataset",
   "id": "41d96457451f6a30"
  },
  {
   "metadata": {
    "ExecuteTime": {
     "end_time": "2025-10-06T23:51:48.841119Z",
     "start_time": "2025-10-06T23:51:48.834795Z"
    }
   },
   "cell_type": "code",
   "source": [
    "def data_split(df, seed):\n",
    "\tnp.random.seed(seed)\n",
    "\n",
    "\tn = df.shape[0]\n",
    "\n",
    "\tn_val = n_test = int(0.2 * n)\n",
    "\tn_train = n - (n_val + n_test)\n",
    "\n",
    "\tidx = np.arange(n)\n",
    "\tnp.random.shuffle(idx)\n",
    "\n",
    "\tdf_shuffled = df.iloc[idx]\n",
    "\n",
    "\tdf_train = df_shuffled.iloc[:n_train].reset_index(drop=True)\n",
    "\tdf_val = df_shuffled.iloc[n_train:n_train+n_val].reset_index(drop=True)\n",
    "\tdf_test = df_shuffled.iloc[n_train+n_val:].reset_index(drop=True)\n",
    "\n",
    "\treturn df_train, df_val, df_test"
   ],
   "id": "b7bf6592be110a40",
   "outputs": [],
   "execution_count": 139
  },
  {
   "metadata": {
    "ExecuteTime": {
     "end_time": "2025-10-06T23:51:48.870548Z",
     "start_time": "2025-10-06T23:51:48.863809Z"
    }
   },
   "cell_type": "code",
   "source": "df_train, df_val, df_test = data_split(df, 42)",
   "id": "c2b8861fcf40cc8d",
   "outputs": [],
   "execution_count": 140
  },
  {
   "metadata": {
    "ExecuteTime": {
     "end_time": "2025-10-06T23:51:48.895225Z",
     "start_time": "2025-10-06T23:51:48.885460Z"
    }
   },
   "cell_type": "code",
   "source": [
    "y_train = df_train.fuel_efficiency_mpg.values\n",
    "y_val = df_val.fuel_efficiency_mpg.values\n",
    "y_test = df_test.fuel_efficiency_mpg.values\n",
    "\n",
    "df_train.drop('fuel_efficiency_mpg', axis=1, inplace=True, errors='ignore')\n",
    "df_val.drop('fuel_efficiency_mpg', axis=1, inplace=True, errors='ignore')\n",
    "df_test.drop('fuel_efficiency_mpg', axis=1, inplace=True, errors='ignore')"
   ],
   "id": "553027a10c6ec7fe",
   "outputs": [],
   "execution_count": 141
  },
  {
   "metadata": {
    "ExecuteTime": {
     "end_time": "2025-10-06T23:51:48.910847Z",
     "start_time": "2025-10-06T23:51:48.908053Z"
    }
   },
   "cell_type": "code",
   "source": "assert df_val.shape == df_test.shape",
   "id": "f49de1740aadc054",
   "outputs": [],
   "execution_count": 142
  },
  {
   "metadata": {},
   "cell_type": "markdown",
   "source": [
    "### Question 3\n",
    "Which imputation method yields the bestter model?\n",
    "\n",
    "#### Model 1: Replace missing values with 0"
   ],
   "id": "5643bc7d19d82c7d"
  },
  {
   "metadata": {
    "ExecuteTime": {
     "end_time": "2025-10-06T23:51:48.928383Z",
     "start_time": "2025-10-06T23:51:48.924680Z"
    }
   },
   "cell_type": "code",
   "source": [
    "def train_linear_regression(X, y):\n",
    "\tones = np.ones(X.shape[0])\n",
    "\tX = np.column_stack([ones, X])\n",
    "\n",
    "\tXTX = X.T.dot(X)\n",
    "\tXTX_inv = np.linalg.inv(XTX)\n",
    "\tw = XTX_inv.dot(X.T).dot(y)\n",
    "\n",
    "\treturn w[0], w[1:]"
   ],
   "id": "2df2678c451fc9c0",
   "outputs": [],
   "execution_count": 143
  },
  {
   "metadata": {
    "ExecuteTime": {
     "end_time": "2025-10-06T23:51:48.941670Z",
     "start_time": "2025-10-06T23:51:48.937044Z"
    }
   },
   "cell_type": "code",
   "source": [
    "def rmse(y, y_pred):\n",
    "\terror = y_pred - y\n",
    "\tmse = (error ** 2).mean()\n",
    "\treturn np.sqrt(mse)"
   ],
   "id": "efee2900e1c5155e",
   "outputs": [],
   "execution_count": 144
  },
  {
   "metadata": {
    "ExecuteTime": {
     "end_time": "2025-10-06T23:51:48.958369Z",
     "start_time": "2025-10-06T23:51:48.949617Z"
    }
   },
   "cell_type": "code",
   "source": [
    "base = ['engine_displacement', 'horsepower', 'vehicle_weight', 'model_year']\n",
    "X_train = df_train[base].fillna(0)\n",
    "w_0, w = train_linear_regression(X_train, y_train)"
   ],
   "id": "1f0185c731ff14a0",
   "outputs": [],
   "execution_count": 145
  },
  {
   "metadata": {
    "ExecuteTime": {
     "end_time": "2025-10-06T23:51:48.980463Z",
     "start_time": "2025-10-06T23:51:48.973963Z"
    }
   },
   "cell_type": "code",
   "source": [
    "X_val = df_val[base].fillna(0)\n",
    "y_pred = w_0 + X_val.dot(w)"
   ],
   "id": "df66c994d86dcb14",
   "outputs": [],
   "execution_count": 146
  },
  {
   "metadata": {
    "ExecuteTime": {
     "end_time": "2025-10-06T23:51:49.362312Z",
     "start_time": "2025-10-06T23:51:48.993029Z"
    }
   },
   "cell_type": "code",
   "source": [
    "plt.figure(figsize=(6, 4))\n",
    "\n",
    "sns.histplot(y_val, label='target', color='#222222', alpha=0.6, bins=40)\n",
    "sns.histplot(y_pred, label='prediction', color='#aaaaaa', alpha=0.8, bins=40)\n",
    "\n",
    "plt.legend()\n",
    "\n",
    "plt.ylabel('Frequency')\n",
    "plt.xlabel('Miles/Gallon')\n",
    "plt.title('Predictions vs actual distribution')\n",
    "\n",
    "plt.show()"
   ],
   "id": "dbc92c6146ac476d",
   "outputs": [
    {
     "data": {
      "text/plain": [
       "<Figure size 600x400 with 1 Axes>"
      ],
      "image/png": "[encoded data removed]"
     },
     "metadata": {},
     "output_type": "display_data",
     "jetTransient": {
      "display_id": null
     }
    }
   ],
   "execution_count": 147
  },
  {
   "metadata": {
    "ExecuteTime": {
     "end_time": "2025-10-06T23:51:49.378196Z",
     "start_time": "2025-10-06T23:51:49.372364Z"
    }
   },
   "cell_type": "code",
   "source": "print(f\"{rmse(y_val, y_pred):.3}\")",
   "id": "916f5474b79fb0ac",
   "outputs": [
    {
     "name": "stdout",
     "output_type": "stream",
     "text": [
      "0.517\n"
     ]
    }
   ],
   "execution_count": 148
  },
  {
   "metadata": {},
   "cell_type": "markdown",
   "source": "#### Model 2: Replace missing values with feature's mean value",
   "id": "baf93fce06b15581"
  },
  {
   "metadata": {
    "ExecuteTime": {
     "end_time": "2025-10-06T23:51:49.405832Z",
     "start_time": "2025-10-06T23:51:49.396817Z"
    }
   },
   "cell_type": "code",
   "source": [
    "X_train = df_train[base]\n",
    "m = X_train.horsepower.mean()\n",
    "X_train.horsepower = X_train.horsepower.fillna(m)\n",
    "w_0, w = train_linear_regression(X_train, y_train)"
   ],
   "id": "e8dbaf035cbea82a",
   "outputs": [],
   "execution_count": 149
  },
  {
   "metadata": {
    "ExecuteTime": {
     "end_time": "2025-10-06T23:51:49.421907Z",
     "start_time": "2025-10-06T23:51:49.417113Z"
    }
   },
   "cell_type": "code",
   "source": [
    "X_val = df_val[base]\n",
    "X_val.horsepower = X_val.horsepower.fillna(m)\n",
    "y_pred = w_0 + X_val.dot(w)"
   ],
   "id": "e5fe8235be84ac40",
   "outputs": [],
   "execution_count": 150
  },
  {
   "metadata": {
    "ExecuteTime": {
     "end_time": "2025-10-06T23:51:49.753384Z",
     "start_time": "2025-10-06T23:51:49.430810Z"
    }
   },
   "cell_type": "code",
   "source": [
    "plt.figure(figsize=(6, 4))\n",
    "\n",
    "sns.histplot(y_val, label='target', color='#222222', alpha=0.6, bins=40)\n",
    "sns.histplot(y_pred, label='prediction', color='#aaaaaa', alpha=0.8, bins=40)\n",
    "\n",
    "plt.legend()\n",
    "\n",
    "plt.ylabel('Frequency')\n",
    "plt.xlabel('Miles/Gallon')\n",
    "plt.title('Predictions vs actual distribution')\n",
    "\n",
    "plt.show()"
   ],
   "id": "8d6e467825e9f756",
   "outputs": [
    {
     "data": {
      "text/plain": [
       "<Figure size 600x400 with 1 Axes>"
      ],
      "image/png": "[encoded data removed]"
     },
     "metadata": {},
     "output_type": "display_data",
     "jetTransient": {
      "display_id": null
     }
    }
   ],
   "execution_count": 151
  },
  {
   "metadata": {
    "ExecuteTime": {
     "end_time": "2025-10-06T23:51:49.767507Z",
     "start_time": "2025-10-06T23:51:49.763302Z"
    }
   },
   "cell_type": "code",
   "source": "print(f\"{rmse(y_val, y_pred):.3}\")",
   "id": "e9f574e64013b686",
   "outputs": [
    {
     "name": "stdout",
     "output_type": "stream",
     "text": [
      "0.464\n"
     ]
    }
   ],
   "execution_count": 152
  },
  {
   "metadata": {},
   "cell_type": "markdown",
   "source": "### Question 4",
   "id": "3bb198efa2e83707"
  },
  {
   "metadata": {
    "ExecuteTime": {
     "end_time": "2025-10-06T23:51:49.787801Z",
     "start_time": "2025-10-06T23:51:49.782232Z"
    }
   },
   "cell_type": "code",
   "source": [
    "def train_linear_regression_reg(X, y, r=0.0):\n",
    "\tones = np.ones(X.shape[0])\n",
    "\tX = np.column_stack([ones, X])\n",
    "\n",
    "\tXTX = X.T.dot(X)\n",
    "\treg = r * np.eye(XTX.shape[0])\n",
    "\tXTX = XTX + reg\n",
    "\n",
    "\tXTX_inv = np.linalg.inv(XTX)\n",
    "\tw = XTX_inv.dot(X.T).dot(y)\n",
    "\n",
    "\treturn w[0], w[1:]"
   ],
   "id": "d2acfea84c61d85f",
   "outputs": [],
   "execution_count": 153
  },
  {
   "metadata": {
    "ExecuteTime": {
     "end_time": "2025-10-06T23:51:49.808080Z",
     "start_time": "2025-10-06T23:51:49.801233Z"
    }
   },
   "cell_type": "code",
   "source": [
    "X_train = df_train[base].fillna(0)\n",
    "X_val = df_val[base].fillna(0)"
   ],
   "id": "d3914b674b37b78a",
   "outputs": [],
   "execution_count": 154
  },
  {
   "metadata": {
    "ExecuteTime": {
     "end_time": "2025-10-06T23:51:49.835922Z",
     "start_time": "2025-10-06T23:51:49.818698Z"
    }
   },
   "cell_type": "code",
   "source": [
    "for r in [0, 0.01, 0.1, 1, 5, 10, 100]:\n",
    "\tw_0, w = train_linear_regression_reg(X_train, y_train, r=r)\n",
    "\ty_pred = w_0 + X_val.dot(w)\n",
    "\terror = rmse(y_val, y_pred)\n",
    "\tprint(f\"r={r}, validation RMSE={error:.3}\")"
   ],
   "id": "702701df415ebc27",
   "outputs": [
    {
     "name": "stdout",
     "output_type": "stream",
     "text": [
      "r=0, validation RMSE=0.517\n",
      "r=0.01, validation RMSE=0.517\n",
      "r=0.1, validation RMSE=0.519\n",
      "r=1, validation RMSE=0.522\n",
      "r=5, validation RMSE=0.523\n",
      "r=10, validation RMSE=0.523\n",
      "r=100, validation RMSE=0.523\n"
     ]
    }
   ],
   "execution_count": 155
  },
  {
   "metadata": {},
   "cell_type": "markdown",
   "source": [
    "### Question 5\n",
    "Does splitting seed affect model performance?"
   ],
   "id": "e5fde2f19e2eab71"
  },
  {
   "metadata": {
    "ExecuteTime": {
     "end_time": "2025-10-06T23:51:49.896929Z",
     "start_time": "2025-10-06T23:51:49.844390Z"
    }
   },
   "cell_type": "code",
   "source": [
    "errors = []\n",
    "for seed in [0, 1, 2, 3, 4, 5, 6, 7, 8, 9]:\n",
    "\t# random data split\n",
    "\tdf_train, df_val, df_test = data_split(df, seed)\n",
    "\n",
    "\t# fill in missing values\n",
    "\tX_train = df_train[base].fillna(0)\n",
    "\tX_val = df_val[base].fillna(0)\n",
    "\tX_test = df_test[base].fillna(0)\n",
    "\n",
    "\ty_train = df_train.fuel_efficiency_mpg.values\n",
    "\ty_val = df_val.fuel_efficiency_mpg.values\n",
    "\ty_test = df_test.fuel_efficiency_mpg.values\n",
    "\n",
    "\tw_0, w = train_linear_regression(X_train, y_train)\n",
    "\n",
    "\ty_pred = w_0 + X_val.dot(w)\n",
    "\terror = rmse(y_val, y_pred)\n",
    "\n",
    "\terrors.append(error)\n",
    "\n",
    "print(round(np.std(errors), 3))"
   ],
   "id": "86e82b18757bc849",
   "outputs": [
    {
     "name": "stdout",
     "output_type": "stream",
     "text": [
      "0.007\n"
     ]
    }
   ],
   "execution_count": 156
  },
  {
   "metadata": {},
   "cell_type": "markdown",
   "source": [
    "### Question 6\n",
    "Final model testing"
   ],
   "id": "108706c3d9ef85c4"
  },
  {
   "metadata": {
    "ExecuteTime": {
     "end_time": "2025-10-06T23:51:49.913014Z",
     "start_time": "2025-10-06T23:51:49.905312Z"
    }
   },
   "cell_type": "code",
   "source": [
    "df_train, df_val, df_test = data_split(df, 9)\n",
    "df_train_full = pd.concat([df_train, df_val], ignore_index=True)"
   ],
   "id": "f56084997ef800e0",
   "outputs": [],
   "execution_count": 157
  },
  {
   "metadata": {
    "ExecuteTime": {
     "end_time": "2025-10-06T23:51:49.930870Z",
     "start_time": "2025-10-06T23:51:49.924812Z"
    }
   },
   "cell_type": "code",
   "source": [
    "# fill in missing values\n",
    "X_train_full = df_train_full[base].fillna(0)\n",
    "X_test = df_test[base].fillna(0)"
   ],
   "id": "27e536021fb55134",
   "outputs": [],
   "execution_count": 158
  },
  {
   "metadata": {
    "ExecuteTime": {
     "end_time": "2025-10-06T23:51:49.943787Z",
     "start_time": "2025-10-06T23:51:49.940933Z"
    }
   },
   "cell_type": "code",
   "source": [
    "# retrieve target variable\n",
    "y_train_full = df_train_full.fuel_efficiency_mpg.values\n",
    "y_test = df_test.fuel_efficiency_mpg.values"
   ],
   "id": "5a1d3b244dea0732",
   "outputs": [],
   "execution_count": 159
  },
  {
   "metadata": {
    "ExecuteTime": {
     "end_time": "2025-10-06T23:52:05.122052Z",
     "start_time": "2025-10-06T23:52:05.114550Z"
    }
   },
   "cell_type": "code",
   "source": [
    "# train regularized model\n",
    "w_0, w = train_linear_regression_reg(X_train_full, y_train_full, r=.001)\n",
    "y_pred = w_0 + X_test.dot(w)\n",
    "error = rmse(y_test, y_pred)\n",
    "print(f\"r=0.001, validation RMSE={error:.3}\")"
   ],
   "id": "bd42ce15f997d72",
   "outputs": [
    {
     "name": "stdout",
     "output_type": "stream",
     "text": [
      "r=0.001, validation RMSE=0.516\n"
     ]
    }
   ],
   "execution_count": 161
  },
  {
   "metadata": {},
   "cell_type": "code",
   "outputs": [],
   "execution_count": null,
   "source": "",
   "id": "48dd18725a8ac09d"
  }
 ],
 "metadata": {
  "kernelspec": {
   "display_name": "Python 3",
   "language": "python",
   "name": "python3"
  },
  "language_info": {
   "codemirror_mode": {
    "name": "ipython",
    "version": 2
   },
   "file_extension": ".py",
   "mimetype": "text/x-python",
   "name": "python",
   "nbconvert_exporter": "python",
   "pygments_lexer": "ipython2",
   "version": "2.7.6"
  }
 },
 "nbformat": 4,
 "nbformat_minor": 5
}
