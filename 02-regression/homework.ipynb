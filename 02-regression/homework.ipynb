{
 "cells": [
  {
   "metadata": {},
   "cell_type": "markdown",
   "source": [
    "# Homework\n",
    "## Preparing the data"
   ],
   "id": "9818e434ffd5fb98"
  },
  {
   "cell_type": "code",
   "id": "initial_id",
   "metadata": {
    "collapsed": true,
    "ExecuteTime": {
     "end_time": "2025-10-06T23:01:40.989317Z",
     "start_time": "2025-10-06T23:01:40.982798Z"
    }
   },
   "source": [
    "import pandas as pd\n",
    "import numpy as np\n",
    "import matplotlib.pyplot as plt\n",
    "import seaborn as sns\n",
    "from sklearn.linear_model import LinearRegression"
   ],
   "outputs": [],
   "execution_count": 116
  },
  {
   "metadata": {
    "ExecuteTime": {
     "end_time": "2025-10-06T23:01:41.233103Z",
     "start_time": "2025-10-06T23:01:41.007622Z"
    }
   },
   "cell_type": "code",
   "source": "df = pd.read_csv('https://raw.githubusercontent.com/alexeygrigorev/datasets/master/car_fuel_efficiency.csv')",
   "id": "a1860f228e1669d7",
   "outputs": [],
   "execution_count": 117
  },
  {
   "metadata": {
    "ExecuteTime": {
     "end_time": "2025-10-06T23:01:41.247459Z",
     "start_time": "2025-10-06T23:01:41.242146Z"
    }
   },
   "cell_type": "code",
   "source": [
    "feature_cols = [\n",
    "\t'engine_displacement',\n",
    "\t'horsepower',\n",
    "\t'vehicle_weight',\n",
    "\t'model_year',\n",
    "\t'fuel_efficiency_mpg'\n",
    "]\n",
    "df = df.loc[:, feature_cols]"
   ],
   "id": "64cf332b991d056a",
   "outputs": [],
   "execution_count": 118
  },
  {
   "metadata": {},
   "cell_type": "markdown",
   "source": "## EDA",
   "id": "18b7fa375aef4d4f"
  },
  {
   "metadata": {
    "ExecuteTime": {
     "end_time": "2025-10-06T23:01:41.279799Z",
     "start_time": "2025-10-06T23:01:41.264096Z"
    }
   },
   "cell_type": "code",
   "source": "df.head()",
   "id": "7f9a94aca0edcf42",
   "outputs": [
    {
     "data": {
      "text/plain": [
       "   engine_displacement  horsepower  vehicle_weight  model_year  \\\n",
       "0                  170       159.0     3413.433759        2003   \n",
       "1                  130        97.0     3149.664934        2007   \n",
       "2                  170        78.0     3079.038997        2018   \n",
       "3                  220         NaN     2542.392402        2009   \n",
       "4                  210       140.0     3460.870990        2009   \n",
       "\n",
       "   fuel_efficiency_mpg  \n",
       "0            13.231729  \n",
       "1            13.688217  \n",
       "2            14.246341  \n",
       "3            16.912736  \n",
       "4            12.488369  "
      ],
      "text/html": [
       "<div>\n",
       "<style scoped>\n",
       "    .dataframe tbody tr th:only-of-type {\n",
       "        vertical-align: middle;\n",
       "    }\n",
       "\n",
       "    .dataframe tbody tr th {\n",
       "        vertical-align: top;\n",
       "    }\n",
       "\n",
       "    .dataframe thead th {\n",
       "        text-align: right;\n",
       "    }\n",
       "</style>\n",
       "<table border=\"1\" class=\"dataframe\">\n",
       "  <thead>\n",
       "    <tr style=\"text-align: right;\">\n",
       "      <th></th>\n",
       "      <th>engine_displacement</th>\n",
       "      <th>horsepower</th>\n",
       "      <th>vehicle_weight</th>\n",
       "      <th>model_year</th>\n",
       "      <th>fuel_efficiency_mpg</th>\n",
       "    </tr>\n",
       "  </thead>\n",
       "  <tbody>\n",
       "    <tr>\n",
       "      <th>0</th>\n",
       "      <td>170</td>\n",
       "      <td>159.0</td>\n",
       "      <td>3413.433759</td>\n",
       "      <td>2003</td>\n",
       "      <td>13.231729</td>\n",
       "    </tr>\n",
       "    <tr>\n",
       "      <th>1</th>\n",
       "      <td>130</td>\n",
       "      <td>97.0</td>\n",
       "      <td>3149.664934</td>\n",
       "      <td>2007</td>\n",
       "      <td>13.688217</td>\n",
       "    </tr>\n",
       "    <tr>\n",
       "      <th>2</th>\n",
       "      <td>170</td>\n",
       "      <td>78.0</td>\n",
       "      <td>3079.038997</td>\n",
       "      <td>2018</td>\n",
       "      <td>14.246341</td>\n",
       "    </tr>\n",
       "    <tr>\n",
       "      <th>3</th>\n",
       "      <td>220</td>\n",
       "      <td>NaN</td>\n",
       "      <td>2542.392402</td>\n",
       "      <td>2009</td>\n",
       "      <td>16.912736</td>\n",
       "    </tr>\n",
       "    <tr>\n",
       "      <th>4</th>\n",
       "      <td>210</td>\n",
       "      <td>140.0</td>\n",
       "      <td>3460.870990</td>\n",
       "      <td>2009</td>\n",
       "      <td>12.488369</td>\n",
       "    </tr>\n",
       "  </tbody>\n",
       "</table>\n",
       "</div>"
      ]
     },
     "execution_count": 119,
     "metadata": {},
     "output_type": "execute_result"
    }
   ],
   "execution_count": 119
  },
  {
   "metadata": {
    "ExecuteTime": {
     "end_time": "2025-10-06T23:01:41.679684Z",
     "start_time": "2025-10-06T23:01:41.372850Z"
    }
   },
   "cell_type": "code",
   "source": [
    "sns.histplot(df, x=\"fuel_efficiency_mpg\", bins=20)\n",
    "plt.title(\"Fuel Efficiency Distributions\")\n",
    "plt.xlabel(\"Miles/Gallon\")\n",
    "plt.show()"
   ],
   "id": "cc2d7bf8dc428272",
   "outputs": [
    {
     "data": {
      "text/plain": [
       "<Figure size 640x480 with 1 Axes>"
      ],
      "image/png": "[encoded data removed]"
     },
     "metadata": {},
     "output_type": "display_data",
     "jetTransient": {
      "display_id": null
     }
    }
   ],
   "execution_count": 120
  },
  {
   "metadata": {},
   "cell_type": "markdown",
   "source": "> The `fuel_efficiency_mpg` does not show significant skew",
   "id": "e19534f3d6937520"
  },
  {
   "metadata": {},
   "cell_type": "markdown",
   "source": [
    "### Question 1\n",
    "There's one column with missing values. What is it?"
   ],
   "id": "4d4de9b1a66edfc1"
  },
  {
   "metadata": {
    "ExecuteTime": {
     "end_time": "2025-10-06T23:01:41.805642Z",
     "start_time": "2025-10-06T23:01:41.797298Z"
    }
   },
   "cell_type": "code",
   "source": "print(\"Columns with missing values:\", list(df.columns[df.isna().sum() > 0]))",
   "id": "e4438eeb7cba09be",
   "outputs": [
    {
     "name": "stdout",
     "output_type": "stream",
     "text": [
      "Columns with missing values: ['horsepower']\n"
     ]
    }
   ],
   "execution_count": 121
  },
  {
   "metadata": {},
   "cell_type": "markdown",
   "source": [
    "### Q2. Records count\n",
    "What's the median (50% percentile) for variable 'horsepower'?"
   ],
   "id": "74b940f3b68d2bf"
  },
  {
   "metadata": {
    "ExecuteTime": {
     "end_time": "2025-10-06T23:01:41.904609Z",
     "start_time": "2025-10-06T23:01:41.896822Z"
    }
   },
   "cell_type": "code",
   "source": "print(\"Median of the 'horsepower' variable: \", df.horsepower.median())",
   "id": "4b31de6040a58ef1",
   "outputs": [
    {
     "name": "stdout",
     "output_type": "stream",
     "text": [
      "Median of the 'horsepower' variable:  149.0\n"
     ]
    }
   ],
   "execution_count": 122
  },
  {
   "metadata": {},
   "cell_type": "markdown",
   "source": "## Splitting the dataset",
   "id": "41d96457451f6a30"
  },
  {
   "metadata": {
    "ExecuteTime": {
     "end_time": "2025-10-06T23:01:42.000266Z",
     "start_time": "2025-10-06T23:01:41.987057Z"
    }
   },
   "cell_type": "code",
   "source": [
    "np.random.seed(2)\n",
    "\n",
    "n = len(df)\n",
    "\n",
    "n_val = int(0.2 * n)\n",
    "n_test = int(0.2 * n)\n",
    "n_train = n - (n_val + n_test)\n",
    "\n",
    "idx = np.arange(n)\n",
    "np.random.shuffle(idx)\n",
    "\n",
    "df_shuffled = df.iloc[idx]\n",
    "\n",
    "df_train = df_shuffled.iloc[:n_train].copy()\n",
    "df_val = df_shuffled.iloc[n_train:n_train+n_val].copy()\n",
    "df_test = df_shuffled.iloc[n_train+n_val:].copy()"
   ],
   "id": "c2b8861fcf40cc8d",
   "outputs": [],
   "execution_count": 123
  },
  {
   "metadata": {
    "ExecuteTime": {
     "end_time": "2025-10-06T23:01:42.025704Z",
     "start_time": "2025-10-06T23:01:42.017635Z"
    }
   },
   "cell_type": "code",
   "source": [
    "y_train_orig = df_train.fuel_efficiency_mpg.values\n",
    "y_val_orig = df_val.fuel_efficiency_mpg.values\n",
    "y_test_orig = df_test.fuel_efficiency_mpg.values\n",
    "\n",
    "y_train = df_train.fuel_efficiency_mpg.values\n",
    "y_val = df_val.fuel_efficiency_mpg.values\n",
    "y_test = df_test.fuel_efficiency_mpg.values\n",
    "\n",
    "del df_train['fuel_efficiency_mpg']\n",
    "del df_val['fuel_efficiency_mpg']\n",
    "del df_test['fuel_efficiency_mpg']"
   ],
   "id": "553027a10c6ec7fe",
   "outputs": [],
   "execution_count": 124
  },
  {
   "metadata": {
    "ExecuteTime": {
     "end_time": "2025-10-06T23:01:42.039543Z",
     "start_time": "2025-10-06T23:01:42.035721Z"
    }
   },
   "cell_type": "code",
   "source": "assert df_val.shape == df_test.shape",
   "id": "f49de1740aadc054",
   "outputs": [],
   "execution_count": 125
  },
  {
   "metadata": {},
   "cell_type": "markdown",
   "source": [
    "### Question 4\n",
    "#### Model 1: Replace missing values with 0"
   ],
   "id": "5643bc7d19d82c7d"
  },
  {
   "metadata": {
    "ExecuteTime": {
     "end_time": "2025-10-06T23:01:42.053993Z",
     "start_time": "2025-10-06T23:01:42.049457Z"
    }
   },
   "cell_type": "code",
   "source": [
    "def train_linear_regression(X, y):\n",
    "\tones = np.ones(X.shape[0])\n",
    "\tX = np.column_stack([ones, X])\n",
    "\n",
    "\tXTX = X.T.dot(X)\n",
    "\tXTX_inv = np.linalg.inv(XTX)\n",
    "\tw = XTX_inv.dot(X.T).dot(y)\n",
    "\n",
    "\treturn w[0], w[1:]"
   ],
   "id": "2df2678c451fc9c0",
   "outputs": [],
   "execution_count": 126
  },
  {
   "metadata": {
    "ExecuteTime": {
     "end_time": "2025-10-06T23:01:42.071491Z",
     "start_time": "2025-10-06T23:01:42.065804Z"
    }
   },
   "cell_type": "code",
   "source": [
    "def rmse(y, y_pred):\n",
    "\terror = y_pred - y\n",
    "\tmse = (error ** 2).mean()\n",
    "\treturn np.sqrt(mse)"
   ],
   "id": "efee2900e1c5155e",
   "outputs": [],
   "execution_count": 127
  },
  {
   "metadata": {
    "ExecuteTime": {
     "end_time": "2025-10-06T23:01:42.092605Z",
     "start_time": "2025-10-06T23:01:42.082618Z"
    }
   },
   "cell_type": "code",
   "source": [
    "base = ['engine_displacement', 'horsepower', 'vehicle_weight', 'model_year']\n",
    "X_train = df_train[base].fillna(0)\n",
    "w_0, w = train_linear_regression(X_train, y_train)"
   ],
   "id": "1f0185c731ff14a0",
   "outputs": [],
   "execution_count": 128
  },
  {
   "metadata": {
    "ExecuteTime": {
     "end_time": "2025-10-06T23:01:42.108281Z",
     "start_time": "2025-10-06T23:01:42.101163Z"
    }
   },
   "cell_type": "code",
   "source": [
    "X_val = df_val[base].fillna(0)\n",
    "y_pred = w_0 + X_val.dot(w)"
   ],
   "id": "df66c994d86dcb14",
   "outputs": [],
   "execution_count": 129
  },
  {
   "metadata": {
    "ExecuteTime": {
     "end_time": "2025-10-06T23:01:42.680499Z",
     "start_time": "2025-10-06T23:01:42.117939Z"
    }
   },
   "cell_type": "code",
   "source": [
    "plt.figure(figsize=(6, 4))\n",
    "\n",
    "sns.histplot(y_val, label='target', color='#222222', alpha=0.6, bins=40)\n",
    "sns.histplot(y_pred, label='prediction', color='#aaaaaa', alpha=0.8, bins=40)\n",
    "\n",
    "plt.legend()\n",
    "\n",
    "plt.ylabel('Frequency')\n",
    "plt.xlabel('Miles/Gallon')\n",
    "plt.title('Predictions vs actual distribution')\n",
    "\n",
    "plt.show()"
   ],
   "id": "dbc92c6146ac476d",
   "outputs": [
    {
     "data": {
      "text/plain": [
       "<Figure size 600x400 with 1 Axes>"
      ],
      "image/png": "[encoded data removed]"
     },
     "metadata": {},
     "output_type": "display_data",
     "jetTransient": {
      "display_id": null
     }
    }
   ],
   "execution_count": 130
  },
  {
   "metadata": {
    "ExecuteTime": {
     "end_time": "2025-10-06T23:01:42.715169Z",
     "start_time": "2025-10-06T23:01:42.707367Z"
    }
   },
   "cell_type": "code",
   "source": "print(f\"{rmse(y_val, y_pred):.3}\")",
   "id": "916f5474b79fb0ac",
   "outputs": [
    {
     "name": "stdout",
     "output_type": "stream",
     "text": [
      "0.523\n"
     ]
    }
   ],
   "execution_count": 131
  },
  {
   "metadata": {},
   "cell_type": "markdown",
   "source": "#### Model 2: Replace missing values with feature's mean value",
   "id": "baf93fce06b15581"
  },
  {
   "metadata": {
    "ExecuteTime": {
     "end_time": "2025-10-06T23:01:42.750096Z",
     "start_time": "2025-10-06T23:01:42.746440Z"
    }
   },
   "cell_type": "code",
   "source": "",
   "id": "e8dbaf035cbea82a",
   "outputs": [],
   "execution_count": null
  },
  {
   "metadata": {
    "ExecuteTime": {
     "end_time": "2025-10-06T23:01:42.814255Z",
     "start_time": "2025-10-06T23:01:42.810213Z"
    }
   },
   "cell_type": "code",
   "source": "",
   "id": "e5fe8235be84ac40",
   "outputs": [],
   "execution_count": null
  }
 ],
 "metadata": {
  "kernelspec": {
   "display_name": "Python 3",
   "language": "python",
   "name": "python3"
  },
  "language_info": {
   "codemirror_mode": {
    "name": "ipython",
    "version": 2
   },
   "file_extension": ".py",
   "mimetype": "text/x-python",
   "name": "python",
   "nbconvert_exporter": "python",
   "pygments_lexer": "ipython2",
   "version": "2.7.6"
  }
 },
 "nbformat": 4,
 "nbformat_minor": 5
}
