{
 "cells": [
  {
   "metadata": {},
   "cell_type": "markdown",
   "source": [
    "# Homework\n",
    "## Preparing the data"
   ],
   "id": "9818e434ffd5fb98"
  },
  {
   "cell_type": "code",
   "id": "initial_id",
   "metadata": {
    "collapsed": true,
    "ExecuteTime": {
     "end_time": "2025-10-06T21:48:50.968807Z",
     "start_time": "2025-10-06T21:48:50.962951Z"
    }
   },
   "source": [
    "import pandas as pd\n",
    "import numpy as np\n",
    "import matplotlib.pyplot as plt\n",
    "import seaborn as sns\n",
    "from sklearn.linear_model import LinearRegression"
   ],
   "outputs": [],
   "execution_count": 2
  },
  {
   "metadata": {
    "ExecuteTime": {
     "end_time": "2025-10-06T21:48:51.329149Z",
     "start_time": "2025-10-06T21:48:50.989067Z"
    }
   },
   "cell_type": "code",
   "source": "df = pd.read_csv('https://raw.githubusercontent.com/alexeygrigorev/datasets/master/car_fuel_efficiency.csv')",
   "id": "a1860f228e1669d7",
   "outputs": [],
   "execution_count": 3
  },
  {
   "metadata": {
    "ExecuteTime": {
     "end_time": "2025-10-06T21:48:51.349503Z",
     "start_time": "2025-10-06T21:48:51.342114Z"
    }
   },
   "cell_type": "code",
   "source": [
    "feature_cols = [\n",
    "\t'engine_displacement',\n",
    "\t'horsepower',\n",
    "\t'vehicle_weight',\n",
    "\t'model_year',\n",
    "\t'fuel_efficiency_mpg'\n",
    "]\n",
    "df = df.loc[:, feature_cols]"
   ],
   "id": "64cf332b991d056a",
   "outputs": [],
   "execution_count": 4
  },
  {
   "metadata": {},
   "cell_type": "markdown",
   "source": "## EDA",
   "id": "18b7fa375aef4d4f"
  },
  {
   "metadata": {
    "ExecuteTime": {
     "end_time": "2025-10-06T21:48:51.397743Z",
     "start_time": "2025-10-06T21:48:51.365466Z"
    }
   },
   "cell_type": "code",
   "source": "df.head()",
   "id": "7f9a94aca0edcf42",
   "outputs": [
    {
     "data": {
      "text/plain": [
       "   engine_displacement  horsepower  vehicle_weight  model_year  \\\n",
       "0                  170       159.0     3413.433759        2003   \n",
       "1                  130        97.0     3149.664934        2007   \n",
       "2                  170        78.0     3079.038997        2018   \n",
       "3                  220         NaN     2542.392402        2009   \n",
       "4                  210       140.0     3460.870990        2009   \n",
       "\n",
       "   fuel_efficiency_mpg  \n",
       "0            13.231729  \n",
       "1            13.688217  \n",
       "2            14.246341  \n",
       "3            16.912736  \n",
       "4            12.488369  "
      ],
      "text/html": [
       "<div>\n",
       "<style scoped>\n",
       "    .dataframe tbody tr th:only-of-type {\n",
       "        vertical-align: middle;\n",
       "    }\n",
       "\n",
       "    .dataframe tbody tr th {\n",
       "        vertical-align: top;\n",
       "    }\n",
       "\n",
       "    .dataframe thead th {\n",
       "        text-align: right;\n",
       "    }\n",
       "</style>\n",
       "<table border=\"1\" class=\"dataframe\">\n",
       "  <thead>\n",
       "    <tr style=\"text-align: right;\">\n",
       "      <th></th>\n",
       "      <th>engine_displacement</th>\n",
       "      <th>horsepower</th>\n",
       "      <th>vehicle_weight</th>\n",
       "      <th>model_year</th>\n",
       "      <th>fuel_efficiency_mpg</th>\n",
       "    </tr>\n",
       "  </thead>\n",
       "  <tbody>\n",
       "    <tr>\n",
       "      <th>0</th>\n",
       "      <td>170</td>\n",
       "      <td>159.0</td>\n",
       "      <td>3413.433759</td>\n",
       "      <td>2003</td>\n",
       "      <td>13.231729</td>\n",
       "    </tr>\n",
       "    <tr>\n",
       "      <th>1</th>\n",
       "      <td>130</td>\n",
       "      <td>97.0</td>\n",
       "      <td>3149.664934</td>\n",
       "      <td>2007</td>\n",
       "      <td>13.688217</td>\n",
       "    </tr>\n",
       "    <tr>\n",
       "      <th>2</th>\n",
       "      <td>170</td>\n",
       "      <td>78.0</td>\n",
       "      <td>3079.038997</td>\n",
       "      <td>2018</td>\n",
       "      <td>14.246341</td>\n",
       "    </tr>\n",
       "    <tr>\n",
       "      <th>3</th>\n",
       "      <td>220</td>\n",
       "      <td>NaN</td>\n",
       "      <td>2542.392402</td>\n",
       "      <td>2009</td>\n",
       "      <td>16.912736</td>\n",
       "    </tr>\n",
       "    <tr>\n",
       "      <th>4</th>\n",
       "      <td>210</td>\n",
       "      <td>140.0</td>\n",
       "      <td>3460.870990</td>\n",
       "      <td>2009</td>\n",
       "      <td>12.488369</td>\n",
       "    </tr>\n",
       "  </tbody>\n",
       "</table>\n",
       "</div>"
      ]
     },
     "execution_count": 5,
     "metadata": {},
     "output_type": "execute_result"
    }
   ],
   "execution_count": 5
  },
  {
   "metadata": {
    "ExecuteTime": {
     "end_time": "2025-10-06T21:48:52.944918Z",
     "start_time": "2025-10-06T21:48:52.079630Z"
    }
   },
   "cell_type": "code",
   "source": [
    "sns.displot(df, x=\"fuel_efficiency_mpg\", bins=20)\n",
    "plt.title(\"Fuel Efficiency Distributions\")\n",
    "plt.xlabel(\"Miles/Gallon\")\n",
    "plt.show()"
   ],
   "id": "cc2d7bf8dc428272",
   "outputs": [
    {
     "data": {
      "text/plain": [
       "<Figure size 500x500 with 1 Axes>"
      ],
      "image/png": "[encoded data removed]"
     },
     "metadata": {},
     "output_type": "display_data",
     "jetTransient": {
      "display_id": null
     }
    }
   ],
   "execution_count": 6
  },
  {
   "metadata": {},
   "cell_type": "markdown",
   "source": "> The `fuel_efficiency_mpg` does not show significant skew",
   "id": "e19534f3d6937520"
  },
  {
   "metadata": {},
   "cell_type": "markdown",
   "source": [
    "### Question 1\n",
    "There's one column with missing values. What is it?"
   ],
   "id": "4d4de9b1a66edfc1"
  },
  {
   "metadata": {
    "ExecuteTime": {
     "end_time": "2025-10-06T21:48:53.170344Z",
     "start_time": "2025-10-06T21:48:53.158874Z"
    }
   },
   "cell_type": "code",
   "source": "print(\"Columns with missing values:\", list(df.columns[df.isna().sum() > 0]))",
   "id": "e4438eeb7cba09be",
   "outputs": [
    {
     "name": "stdout",
     "output_type": "stream",
     "text": [
      "Columns with missing values: ['horsepower']\n"
     ]
    }
   ],
   "execution_count": 7
  },
  {
   "metadata": {},
   "cell_type": "markdown",
   "source": [
    "### Q2. Records count\n",
    "What's the median (50% percentile) for variable 'horsepower'?"
   ],
   "id": "74b940f3b68d2bf"
  },
  {
   "metadata": {
    "ExecuteTime": {
     "end_time": "2025-10-06T21:48:53.290934Z",
     "start_time": "2025-10-06T21:48:53.271238Z"
    }
   },
   "cell_type": "code",
   "source": "print(\"Median of the 'horsepower' variable: \", df.horsepower.median())",
   "id": "4b31de6040a58ef1",
   "outputs": [
    {
     "name": "stdout",
     "output_type": "stream",
     "text": [
      "Median of the 'horsepower' variable:  149.0\n"
     ]
    }
   ],
   "execution_count": 8
  },
  {
   "metadata": {},
   "cell_type": "markdown",
   "source": "## Splitting the dataset",
   "id": "41d96457451f6a30"
  },
  {
   "metadata": {
    "ExecuteTime": {
     "end_time": "2025-10-06T21:48:53.361404Z",
     "start_time": "2025-10-06T21:48:53.355384Z"
    }
   },
   "cell_type": "code",
   "source": [
    "# apply 60%/20%/20% split\n",
    "n = df.shape[0]\n",
    "\n",
    "n_val = n_test = int(n * .2)\n",
    "n_train = n - (n_val + n_test)"
   ],
   "id": "c2b8861fcf40cc8d",
   "outputs": [],
   "execution_count": 9
  },
  {
   "metadata": {
    "ExecuteTime": {
     "end_time": "2025-10-06T21:48:53.397Z",
     "start_time": "2025-10-06T21:48:53.390247Z"
    }
   },
   "cell_type": "code",
   "source": [
    "idx = np.arange(n)\n",
    "np.random.shuffle(idx)"
   ],
   "id": "8e847e555d159d2f",
   "outputs": [],
   "execution_count": 10
  },
  {
   "metadata": {
    "ExecuteTime": {
     "end_time": "2025-10-06T21:48:53.425970Z",
     "start_time": "2025-10-06T21:48:53.415113Z"
    }
   },
   "cell_type": "code",
   "source": [
    "df_train = df.iloc[idx[:n_train]].reset_index(drop=True)\n",
    "df_val = df.iloc[idx[n_train:n_train + n_val]].reset_index(drop=True)\n",
    "df_test = df.iloc[idx[n_train + n_val:]].reset_index(drop=True)"
   ],
   "id": "4298e89038886761",
   "outputs": [],
   "execution_count": 11
  },
  {
   "metadata": {
    "ExecuteTime": {
     "end_time": "2025-10-06T21:49:00.877819Z",
     "start_time": "2025-10-06T21:49:00.870992Z"
    }
   },
   "cell_type": "code",
   "source": "assert df_val.shape == df_test.shape",
   "id": "f49de1740aadc054",
   "outputs": [],
   "execution_count": 12
  },
  {
   "metadata": {},
   "cell_type": "markdown",
   "source": "### Question 4",
   "id": "5643bc7d19d82c7d"
  }
 ],
 "metadata": {
  "kernelspec": {
   "display_name": "Python 3",
   "language": "python",
   "name": "python3"
  },
  "language_info": {
   "codemirror_mode": {
    "name": "ipython",
    "version": 2
   },
   "file_extension": ".py",
   "mimetype": "text/x-python",
   "name": "python",
   "nbconvert_exporter": "python",
   "pygments_lexer": "ipython2",
   "version": "2.7.6"
  }
 },
 "nbformat": 4,
 "nbformat_minor": 5
}
