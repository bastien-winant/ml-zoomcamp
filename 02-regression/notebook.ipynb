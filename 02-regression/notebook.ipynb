{
 "cells": [
  {
   "metadata": {
    "ExecuteTime": {
     "end_time": "2025-10-06T22:31:16.948397Z",
     "start_time": "2025-10-06T22:31:15.142880Z"
    }
   },
   "cell_type": "code",
   "source": [
    "import pandas as pd\n",
    "import matplotlib.pyplot as plt\n",
    "import seaborn as sns\n",
    "import numpy as np\n",
    "from sklearn.model_selection import train_test_split\n",
    "from sklearn.preprocessing import OneHotEncoder"
   ],
   "id": "5603a4383fce0895",
   "outputs": [],
   "execution_count": 3
  },
  {
   "metadata": {},
   "cell_type": "markdown",
   "source": "## Data Preparation",
   "id": "22a430d01f7e7d53"
  },
  {
   "cell_type": "code",
   "id": "initial_id",
   "metadata": {
    "collapsed": true,
    "ExecuteTime": {
     "end_time": "2025-10-06T22:31:17.007009Z",
     "start_time": "2025-10-06T22:31:16.959856Z"
    }
   },
   "source": "df = pd.read_csv('data.csv')",
   "outputs": [],
   "execution_count": 4
  },
  {
   "metadata": {
    "ExecuteTime": {
     "end_time": "2025-10-06T22:31:17.070985Z",
     "start_time": "2025-10-06T22:31:17.035768Z"
    }
   },
   "cell_type": "code",
   "source": "df.head()",
   "id": "2156e95e027cae72",
   "outputs": [
    {
     "data": {
      "text/plain": [
       "  Make       Model  Year             Engine Fuel Type  Engine HP  \\\n",
       "0  BMW  1 Series M  2011  premium unleaded (required)      335.0   \n",
       "1  BMW    1 Series  2011  premium unleaded (required)      300.0   \n",
       "2  BMW    1 Series  2011  premium unleaded (required)      300.0   \n",
       "3  BMW    1 Series  2011  premium unleaded (required)      230.0   \n",
       "4  BMW    1 Series  2011  premium unleaded (required)      230.0   \n",
       "\n",
       "   Engine Cylinders Transmission Type     Driven_Wheels  Number of Doors  \\\n",
       "0               6.0            MANUAL  rear wheel drive              2.0   \n",
       "1               6.0            MANUAL  rear wheel drive              2.0   \n",
       "2               6.0            MANUAL  rear wheel drive              2.0   \n",
       "3               6.0            MANUAL  rear wheel drive              2.0   \n",
       "4               6.0            MANUAL  rear wheel drive              2.0   \n",
       "\n",
       "                         Market Category Vehicle Size Vehicle Style  \\\n",
       "0  Factory Tuner,Luxury,High-Performance      Compact         Coupe   \n",
       "1                     Luxury,Performance      Compact   Convertible   \n",
       "2                Luxury,High-Performance      Compact         Coupe   \n",
       "3                     Luxury,Performance      Compact         Coupe   \n",
       "4                                 Luxury      Compact   Convertible   \n",
       "\n",
       "   highway MPG  city mpg  Popularity   MSRP  \n",
       "0           26        19        3916  46135  \n",
       "1           28        19        3916  40650  \n",
       "2           28        20        3916  36350  \n",
       "3           28        18        3916  29450  \n",
       "4           28        18        3916  34500  "
      ],
      "text/html": [
       "<div>\n",
       "<style scoped>\n",
       "    .dataframe tbody tr th:only-of-type {\n",
       "        vertical-align: middle;\n",
       "    }\n",
       "\n",
       "    .dataframe tbody tr th {\n",
       "        vertical-align: top;\n",
       "    }\n",
       "\n",
       "    .dataframe thead th {\n",
       "        text-align: right;\n",
       "    }\n",
       "</style>\n",
       "<table border=\"1\" class=\"dataframe\">\n",
       "  <thead>\n",
       "    <tr style=\"text-align: right;\">\n",
       "      <th></th>\n",
       "      <th>Make</th>\n",
       "      <th>Model</th>\n",
       "      <th>Year</th>\n",
       "      <th>Engine Fuel Type</th>\n",
       "      <th>Engine HP</th>\n",
       "      <th>Engine Cylinders</th>\n",
       "      <th>Transmission Type</th>\n",
       "      <th>Driven_Wheels</th>\n",
       "      <th>Number of Doors</th>\n",
       "      <th>Market Category</th>\n",
       "      <th>Vehicle Size</th>\n",
       "      <th>Vehicle Style</th>\n",
       "      <th>highway MPG</th>\n",
       "      <th>city mpg</th>\n",
       "      <th>Popularity</th>\n",
       "      <th>MSRP</th>\n",
       "    </tr>\n",
       "  </thead>\n",
       "  <tbody>\n",
       "    <tr>\n",
       "      <th>0</th>\n",
       "      <td>BMW</td>\n",
       "      <td>1 Series M</td>\n",
       "      <td>2011</td>\n",
       "      <td>premium unleaded (required)</td>\n",
       "      <td>335.0</td>\n",
       "      <td>6.0</td>\n",
       "      <td>MANUAL</td>\n",
       "      <td>rear wheel drive</td>\n",
       "      <td>2.0</td>\n",
       "      <td>Factory Tuner,Luxury,High-Performance</td>\n",
       "      <td>Compact</td>\n",
       "      <td>Coupe</td>\n",
       "      <td>26</td>\n",
       "      <td>19</td>\n",
       "      <td>3916</td>\n",
       "      <td>46135</td>\n",
       "    </tr>\n",
       "    <tr>\n",
       "      <th>1</th>\n",
       "      <td>BMW</td>\n",
       "      <td>1 Series</td>\n",
       "      <td>2011</td>\n",
       "      <td>premium unleaded (required)</td>\n",
       "      <td>300.0</td>\n",
       "      <td>6.0</td>\n",
       "      <td>MANUAL</td>\n",
       "      <td>rear wheel drive</td>\n",
       "      <td>2.0</td>\n",
       "      <td>Luxury,Performance</td>\n",
       "      <td>Compact</td>\n",
       "      <td>Convertible</td>\n",
       "      <td>28</td>\n",
       "      <td>19</td>\n",
       "      <td>3916</td>\n",
       "      <td>40650</td>\n",
       "    </tr>\n",
       "    <tr>\n",
       "      <th>2</th>\n",
       "      <td>BMW</td>\n",
       "      <td>1 Series</td>\n",
       "      <td>2011</td>\n",
       "      <td>premium unleaded (required)</td>\n",
       "      <td>300.0</td>\n",
       "      <td>6.0</td>\n",
       "      <td>MANUAL</td>\n",
       "      <td>rear wheel drive</td>\n",
       "      <td>2.0</td>\n",
       "      <td>Luxury,High-Performance</td>\n",
       "      <td>Compact</td>\n",
       "      <td>Coupe</td>\n",
       "      <td>28</td>\n",
       "      <td>20</td>\n",
       "      <td>3916</td>\n",
       "      <td>36350</td>\n",
       "    </tr>\n",
       "    <tr>\n",
       "      <th>3</th>\n",
       "      <td>BMW</td>\n",
       "      <td>1 Series</td>\n",
       "      <td>2011</td>\n",
       "      <td>premium unleaded (required)</td>\n",
       "      <td>230.0</td>\n",
       "      <td>6.0</td>\n",
       "      <td>MANUAL</td>\n",
       "      <td>rear wheel drive</td>\n",
       "      <td>2.0</td>\n",
       "      <td>Luxury,Performance</td>\n",
       "      <td>Compact</td>\n",
       "      <td>Coupe</td>\n",
       "      <td>28</td>\n",
       "      <td>18</td>\n",
       "      <td>3916</td>\n",
       "      <td>29450</td>\n",
       "    </tr>\n",
       "    <tr>\n",
       "      <th>4</th>\n",
       "      <td>BMW</td>\n",
       "      <td>1 Series</td>\n",
       "      <td>2011</td>\n",
       "      <td>premium unleaded (required)</td>\n",
       "      <td>230.0</td>\n",
       "      <td>6.0</td>\n",
       "      <td>MANUAL</td>\n",
       "      <td>rear wheel drive</td>\n",
       "      <td>2.0</td>\n",
       "      <td>Luxury</td>\n",
       "      <td>Compact</td>\n",
       "      <td>Convertible</td>\n",
       "      <td>28</td>\n",
       "      <td>18</td>\n",
       "      <td>3916</td>\n",
       "      <td>34500</td>\n",
       "    </tr>\n",
       "  </tbody>\n",
       "</table>\n",
       "</div>"
      ]
     },
     "execution_count": 5,
     "metadata": {},
     "output_type": "execute_result"
    }
   ],
   "execution_count": 5
  },
  {
   "metadata": {
    "ExecuteTime": {
     "end_time": "2025-10-06T22:31:17.122537Z",
     "start_time": "2025-10-06T22:31:17.117641Z"
    }
   },
   "cell_type": "code",
   "source": [
    "# standardize column names\n",
    "df.columns = map(lambda x: x.lower().replace(\" \", \"_\"), df.columns)"
   ],
   "id": "f5c15ce9f0038d02",
   "outputs": [],
   "execution_count": 6
  },
  {
   "metadata": {
    "ExecuteTime": {
     "end_time": "2025-10-06T22:31:17.281526Z",
     "start_time": "2025-10-06T22:31:17.219789Z"
    }
   },
   "cell_type": "code",
   "source": [
    "str_cols = df.dtypes[df.dtypes == 'object'].index\n",
    "\n",
    "for col in str_cols:\n",
    "\tdf[col] = df[col].str.lower().str.replace(\" \", \"_\")"
   ],
   "id": "588e8bbedff97c06",
   "outputs": [],
   "execution_count": 7
  },
  {
   "metadata": {},
   "cell_type": "markdown",
   "source": "## Exploratory Data Analysis",
   "id": "fab4596299b7cf73"
  },
  {
   "metadata": {
    "ExecuteTime": {
     "end_time": "2025-10-06T22:31:17.484590Z",
     "start_time": "2025-10-06T22:31:17.428420Z"
    }
   },
   "cell_type": "code",
   "source": "df.describe()",
   "id": "96a73d34fbfa37a5",
   "outputs": [
    {
     "data": {
      "text/plain": [
       "               year    engine_hp  engine_cylinders  number_of_doors  \\\n",
       "count  11914.000000  11845.00000      11884.000000     11908.000000   \n",
       "mean    2010.384338    249.38607          5.628829         3.436093   \n",
       "std        7.579740    109.19187          1.780559         0.881315   \n",
       "min     1990.000000     55.00000          0.000000         2.000000   \n",
       "25%     2007.000000    170.00000          4.000000         2.000000   \n",
       "50%     2015.000000    227.00000          6.000000         4.000000   \n",
       "75%     2016.000000    300.00000          6.000000         4.000000   \n",
       "max     2017.000000   1001.00000         16.000000         4.000000   \n",
       "\n",
       "        highway_mpg      city_mpg    popularity          msrp  \n",
       "count  11914.000000  11914.000000  11914.000000  1.191400e+04  \n",
       "mean      26.637485     19.733255   1554.911197  4.059474e+04  \n",
       "std        8.863001      8.987798   1441.855347  6.010910e+04  \n",
       "min       12.000000      7.000000      2.000000  2.000000e+03  \n",
       "25%       22.000000     16.000000    549.000000  2.100000e+04  \n",
       "50%       26.000000     18.000000   1385.000000  2.999500e+04  \n",
       "75%       30.000000     22.000000   2009.000000  4.223125e+04  \n",
       "max      354.000000    137.000000   5657.000000  2.065902e+06  "
      ],
      "text/html": [
       "<div>\n",
       "<style scoped>\n",
       "    .dataframe tbody tr th:only-of-type {\n",
       "        vertical-align: middle;\n",
       "    }\n",
       "\n",
       "    .dataframe tbody tr th {\n",
       "        vertical-align: top;\n",
       "    }\n",
       "\n",
       "    .dataframe thead th {\n",
       "        text-align: right;\n",
       "    }\n",
       "</style>\n",
       "<table border=\"1\" class=\"dataframe\">\n",
       "  <thead>\n",
       "    <tr style=\"text-align: right;\">\n",
       "      <th></th>\n",
       "      <th>year</th>\n",
       "      <th>engine_hp</th>\n",
       "      <th>engine_cylinders</th>\n",
       "      <th>number_of_doors</th>\n",
       "      <th>highway_mpg</th>\n",
       "      <th>city_mpg</th>\n",
       "      <th>popularity</th>\n",
       "      <th>msrp</th>\n",
       "    </tr>\n",
       "  </thead>\n",
       "  <tbody>\n",
       "    <tr>\n",
       "      <th>count</th>\n",
       "      <td>11914.000000</td>\n",
       "      <td>11845.00000</td>\n",
       "      <td>11884.000000</td>\n",
       "      <td>11908.000000</td>\n",
       "      <td>11914.000000</td>\n",
       "      <td>11914.000000</td>\n",
       "      <td>11914.000000</td>\n",
       "      <td>1.191400e+04</td>\n",
       "    </tr>\n",
       "    <tr>\n",
       "      <th>mean</th>\n",
       "      <td>2010.384338</td>\n",
       "      <td>249.38607</td>\n",
       "      <td>5.628829</td>\n",
       "      <td>3.436093</td>\n",
       "      <td>26.637485</td>\n",
       "      <td>19.733255</td>\n",
       "      <td>1554.911197</td>\n",
       "      <td>4.059474e+04</td>\n",
       "    </tr>\n",
       "    <tr>\n",
       "      <th>std</th>\n",
       "      <td>7.579740</td>\n",
       "      <td>109.19187</td>\n",
       "      <td>1.780559</td>\n",
       "      <td>0.881315</td>\n",
       "      <td>8.863001</td>\n",
       "      <td>8.987798</td>\n",
       "      <td>1441.855347</td>\n",
       "      <td>6.010910e+04</td>\n",
       "    </tr>\n",
       "    <tr>\n",
       "      <th>min</th>\n",
       "      <td>1990.000000</td>\n",
       "      <td>55.00000</td>\n",
       "      <td>0.000000</td>\n",
       "      <td>2.000000</td>\n",
       "      <td>12.000000</td>\n",
       "      <td>7.000000</td>\n",
       "      <td>2.000000</td>\n",
       "      <td>2.000000e+03</td>\n",
       "    </tr>\n",
       "    <tr>\n",
       "      <th>25%</th>\n",
       "      <td>2007.000000</td>\n",
       "      <td>170.00000</td>\n",
       "      <td>4.000000</td>\n",
       "      <td>2.000000</td>\n",
       "      <td>22.000000</td>\n",
       "      <td>16.000000</td>\n",
       "      <td>549.000000</td>\n",
       "      <td>2.100000e+04</td>\n",
       "    </tr>\n",
       "    <tr>\n",
       "      <th>50%</th>\n",
       "      <td>2015.000000</td>\n",
       "      <td>227.00000</td>\n",
       "      <td>6.000000</td>\n",
       "      <td>4.000000</td>\n",
       "      <td>26.000000</td>\n",
       "      <td>18.000000</td>\n",
       "      <td>1385.000000</td>\n",
       "      <td>2.999500e+04</td>\n",
       "    </tr>\n",
       "    <tr>\n",
       "      <th>75%</th>\n",
       "      <td>2016.000000</td>\n",
       "      <td>300.00000</td>\n",
       "      <td>6.000000</td>\n",
       "      <td>4.000000</td>\n",
       "      <td>30.000000</td>\n",
       "      <td>22.000000</td>\n",
       "      <td>2009.000000</td>\n",
       "      <td>4.223125e+04</td>\n",
       "    </tr>\n",
       "    <tr>\n",
       "      <th>max</th>\n",
       "      <td>2017.000000</td>\n",
       "      <td>1001.00000</td>\n",
       "      <td>16.000000</td>\n",
       "      <td>4.000000</td>\n",
       "      <td>354.000000</td>\n",
       "      <td>137.000000</td>\n",
       "      <td>5657.000000</td>\n",
       "      <td>2.065902e+06</td>\n",
       "    </tr>\n",
       "  </tbody>\n",
       "</table>\n",
       "</div>"
      ]
     },
     "execution_count": 8,
     "metadata": {},
     "output_type": "execute_result"
    }
   ],
   "execution_count": 8
  },
  {
   "metadata": {
    "ExecuteTime": {
     "end_time": "2025-10-06T22:31:18.455392Z",
     "start_time": "2025-10-06T22:31:17.679642Z"
    }
   },
   "cell_type": "code",
   "source": [
    "# plot the distribution of the target variable\n",
    "sns.histplot(df.loc[df.msrp < 100000].msrp, bins=50)\n",
    "plt.title(\"Distribution of car retail prices\")\n",
    "plt.xlabel(\"Suggested Retail Price\")\n",
    "plt.show()"
   ],
   "id": "50a6b88087ca17b4",
   "outputs": [
    {
     "data": {
      "text/plain": [
       "<Figure size 640x480 with 1 Axes>"
      ],
      "image/png": "[encoded data removed]"
     },
     "metadata": {},
     "output_type": "display_data",
     "jetTransient": {
      "display_id": null
     }
    }
   ],
   "execution_count": 9
  },
  {
   "metadata": {
    "ExecuteTime": {
     "end_time": "2025-10-06T22:31:19.013173Z",
     "start_time": "2025-10-06T22:31:18.566818Z"
    }
   },
   "cell_type": "code",
   "source": [
    "# apply logarithmic scaling due to high skew\n",
    "sns.histplot(np.log1p(df.msrp), bins=50)\n",
    "plt.title(\"Distribution of car retail prices (log scale)\")\n",
    "plt.xlabel(\"Suggested Retail Price\")\n",
    "plt.show()"
   ],
   "id": "734ed73eb6e042ff",
   "outputs": [
    {
     "data": {
      "text/plain": [
       "<Figure size 640x480 with 1 Axes>"
      ],
      "image/png": "[encoded data removed]"
     },
     "metadata": {},
     "output_type": "display_data",
     "jetTransient": {
      "display_id": null
     }
    }
   ],
   "execution_count": 10
  },
  {
   "metadata": {
    "ExecuteTime": {
     "end_time": "2025-10-06T22:31:19.056962Z",
     "start_time": "2025-10-06T22:31:19.040098Z"
    }
   },
   "cell_type": "code",
   "source": [
    "# percentage of missing values per variable\n",
    "100 * df.isna().sum() / df.shape[0]"
   ],
   "id": "d1da0b75538ab504",
   "outputs": [
    {
     "data": {
      "text/plain": [
       "make                  0.000000\n",
       "model                 0.000000\n",
       "year                  0.000000\n",
       "engine_fuel_type      0.025180\n",
       "engine_hp             0.579151\n",
       "engine_cylinders      0.251805\n",
       "transmission_type     0.000000\n",
       "driven_wheels         0.000000\n",
       "number_of_doors       0.050361\n",
       "market_category      31.408427\n",
       "vehicle_size          0.000000\n",
       "vehicle_style         0.000000\n",
       "highway_mpg           0.000000\n",
       "city_mpg              0.000000\n",
       "popularity            0.000000\n",
       "msrp                  0.000000\n",
       "dtype: float64"
      ]
     },
     "execution_count": 11,
     "metadata": {},
     "output_type": "execute_result"
    }
   ],
   "execution_count": 11
  },
  {
   "metadata": {},
   "cell_type": "markdown",
   "source": "## Validation Framework",
   "id": "9bf2f3d622d68c98"
  },
  {
   "metadata": {
    "ExecuteTime": {
     "end_time": "2025-10-06T22:31:19.158971Z",
     "start_time": "2025-10-06T22:31:19.154113Z"
    }
   },
   "cell_type": "code",
   "source": "np.random.seed(2)",
   "id": "1e101a7d5f75dc77",
   "outputs": [],
   "execution_count": 12
  },
  {
   "metadata": {
    "ExecuteTime": {
     "end_time": "2025-10-06T22:31:19.317047Z",
     "start_time": "2025-10-06T22:31:19.311187Z"
    }
   },
   "cell_type": "code",
   "source": [
    "# apply 60%/20%/20% split\n",
    "n = df.shape[0]\n",
    "\n",
    "n_val = n_test = int(n * .2)\n",
    "n_train = n - (n_val + n_test)"
   ],
   "id": "1044afe961ee2b10",
   "outputs": [],
   "execution_count": 13
  },
  {
   "metadata": {
    "ExecuteTime": {
     "end_time": "2025-10-06T22:31:19.377374Z",
     "start_time": "2025-10-06T22:31:19.370950Z"
    }
   },
   "cell_type": "code",
   "source": [
    "idx = np.arange(n)\n",
    "np.random.shuffle(idx)"
   ],
   "id": "c3e0e91c37c0c24",
   "outputs": [],
   "execution_count": 14
  },
  {
   "metadata": {
    "ExecuteTime": {
     "end_time": "2025-10-06T22:31:19.445256Z",
     "start_time": "2025-10-06T22:31:19.414312Z"
    }
   },
   "cell_type": "code",
   "source": [
    "df_train = df.iloc[idx[:n_train]].reset_index(drop=True)\n",
    "df_val = df.iloc[idx[n_train:n_train + n_val]].reset_index(drop=True)\n",
    "df_test = df.iloc[idx[n_train + n_val:]].reset_index(drop=True)"
   ],
   "id": "21b9127d15393b32",
   "outputs": [],
   "execution_count": 15
  },
  {
   "metadata": {
    "ExecuteTime": {
     "end_time": "2025-10-06T22:31:19.462834Z",
     "start_time": "2025-10-06T22:31:19.458422Z"
    }
   },
   "cell_type": "code",
   "source": "assert df_val.shape == df_test.shape",
   "id": "2f95150bf57d701b",
   "outputs": [],
   "execution_count": 16
  },
  {
   "metadata": {
    "ExecuteTime": {
     "end_time": "2025-10-06T22:31:19.506626Z",
     "start_time": "2025-10-06T22:31:19.480598Z"
    }
   },
   "cell_type": "code",
   "source": "df_train.head()",
   "id": "1a46f9a7beedb786",
   "outputs": [
    {
     "data": {
      "text/plain": [
       "         make    model  year          engine_fuel_type  engine_hp  \\\n",
       "0   chevrolet   cobalt  2008          regular_unleaded      148.0   \n",
       "1      toyota   matrix  2012          regular_unleaded      132.0   \n",
       "2      subaru  impreza  2016          regular_unleaded      148.0   \n",
       "3  volkswagen  vanagon  1991          regular_unleaded       90.0   \n",
       "4        ford    f-150  2017  flex-fuel_(unleaded/e85)      385.0   \n",
       "\n",
       "   engine_cylinders transmission_type      driven_wheels  number_of_doors  \\\n",
       "0               4.0            manual  front_wheel_drive              2.0   \n",
       "1               4.0         automatic  front_wheel_drive              4.0   \n",
       "2               4.0         automatic    all_wheel_drive              4.0   \n",
       "3               4.0            manual   rear_wheel_drive              3.0   \n",
       "4               8.0         automatic   four_wheel_drive              4.0   \n",
       "\n",
       "  market_category vehicle_size      vehicle_style  highway_mpg  city_mpg  \\\n",
       "0             NaN      compact              coupe           33        24   \n",
       "1       hatchback      compact      4dr_hatchback           32        25   \n",
       "2       hatchback      compact      4dr_hatchback           37        28   \n",
       "3             NaN        large  passenger_minivan           18        16   \n",
       "4       flex_fuel        large    crew_cab_pickup           21        15   \n",
       "\n",
       "   popularity   msrp  \n",
       "0        1385  14410  \n",
       "1        2031  19685  \n",
       "2         640  19795  \n",
       "3         873   2000  \n",
       "4        5657  56260  "
      ],
      "text/html": [
       "<div>\n",
       "<style scoped>\n",
       "    .dataframe tbody tr th:only-of-type {\n",
       "        vertical-align: middle;\n",
       "    }\n",
       "\n",
       "    .dataframe tbody tr th {\n",
       "        vertical-align: top;\n",
       "    }\n",
       "\n",
       "    .dataframe thead th {\n",
       "        text-align: right;\n",
       "    }\n",
       "</style>\n",
       "<table border=\"1\" class=\"dataframe\">\n",
       "  <thead>\n",
       "    <tr style=\"text-align: right;\">\n",
       "      <th></th>\n",
       "      <th>make</th>\n",
       "      <th>model</th>\n",
       "      <th>year</th>\n",
       "      <th>engine_fuel_type</th>\n",
       "      <th>engine_hp</th>\n",
       "      <th>engine_cylinders</th>\n",
       "      <th>transmission_type</th>\n",
       "      <th>driven_wheels</th>\n",
       "      <th>number_of_doors</th>\n",
       "      <th>market_category</th>\n",
       "      <th>vehicle_size</th>\n",
       "      <th>vehicle_style</th>\n",
       "      <th>highway_mpg</th>\n",
       "      <th>city_mpg</th>\n",
       "      <th>popularity</th>\n",
       "      <th>msrp</th>\n",
       "    </tr>\n",
       "  </thead>\n",
       "  <tbody>\n",
       "    <tr>\n",
       "      <th>0</th>\n",
       "      <td>chevrolet</td>\n",
       "      <td>cobalt</td>\n",
       "      <td>2008</td>\n",
       "      <td>regular_unleaded</td>\n",
       "      <td>148.0</td>\n",
       "      <td>4.0</td>\n",
       "      <td>manual</td>\n",
       "      <td>front_wheel_drive</td>\n",
       "      <td>2.0</td>\n",
       "      <td>NaN</td>\n",
       "      <td>compact</td>\n",
       "      <td>coupe</td>\n",
       "      <td>33</td>\n",
       "      <td>24</td>\n",
       "      <td>1385</td>\n",
       "      <td>14410</td>\n",
       "    </tr>\n",
       "    <tr>\n",
       "      <th>1</th>\n",
       "      <td>toyota</td>\n",
       "      <td>matrix</td>\n",
       "      <td>2012</td>\n",
       "      <td>regular_unleaded</td>\n",
       "      <td>132.0</td>\n",
       "      <td>4.0</td>\n",
       "      <td>automatic</td>\n",
       "      <td>front_wheel_drive</td>\n",
       "      <td>4.0</td>\n",
       "      <td>hatchback</td>\n",
       "      <td>compact</td>\n",
       "      <td>4dr_hatchback</td>\n",
       "      <td>32</td>\n",
       "      <td>25</td>\n",
       "      <td>2031</td>\n",
       "      <td>19685</td>\n",
       "    </tr>\n",
       "    <tr>\n",
       "      <th>2</th>\n",
       "      <td>subaru</td>\n",
       "      <td>impreza</td>\n",
       "      <td>2016</td>\n",
       "      <td>regular_unleaded</td>\n",
       "      <td>148.0</td>\n",
       "      <td>4.0</td>\n",
       "      <td>automatic</td>\n",
       "      <td>all_wheel_drive</td>\n",
       "      <td>4.0</td>\n",
       "      <td>hatchback</td>\n",
       "      <td>compact</td>\n",
       "      <td>4dr_hatchback</td>\n",
       "      <td>37</td>\n",
       "      <td>28</td>\n",
       "      <td>640</td>\n",
       "      <td>19795</td>\n",
       "    </tr>\n",
       "    <tr>\n",
       "      <th>3</th>\n",
       "      <td>volkswagen</td>\n",
       "      <td>vanagon</td>\n",
       "      <td>1991</td>\n",
       "      <td>regular_unleaded</td>\n",
       "      <td>90.0</td>\n",
       "      <td>4.0</td>\n",
       "      <td>manual</td>\n",
       "      <td>rear_wheel_drive</td>\n",
       "      <td>3.0</td>\n",
       "      <td>NaN</td>\n",
       "      <td>large</td>\n",
       "      <td>passenger_minivan</td>\n",
       "      <td>18</td>\n",
       "      <td>16</td>\n",
       "      <td>873</td>\n",
       "      <td>2000</td>\n",
       "    </tr>\n",
       "    <tr>\n",
       "      <th>4</th>\n",
       "      <td>ford</td>\n",
       "      <td>f-150</td>\n",
       "      <td>2017</td>\n",
       "      <td>flex-fuel_(unleaded/e85)</td>\n",
       "      <td>385.0</td>\n",
       "      <td>8.0</td>\n",
       "      <td>automatic</td>\n",
       "      <td>four_wheel_drive</td>\n",
       "      <td>4.0</td>\n",
       "      <td>flex_fuel</td>\n",
       "      <td>large</td>\n",
       "      <td>crew_cab_pickup</td>\n",
       "      <td>21</td>\n",
       "      <td>15</td>\n",
       "      <td>5657</td>\n",
       "      <td>56260</td>\n",
       "    </tr>\n",
       "  </tbody>\n",
       "</table>\n",
       "</div>"
      ]
     },
     "execution_count": 17,
     "metadata": {},
     "output_type": "execute_result"
    }
   ],
   "execution_count": 17
  },
  {
   "metadata": {
    "ExecuteTime": {
     "end_time": "2025-10-06T22:31:19.648756Z",
     "start_time": "2025-10-06T22:31:19.641986Z"
    }
   },
   "cell_type": "code",
   "source": [
    "y_train = np.log1p(df_train.msrp.values)\n",
    "y_val = np.log1p(df_val.msrp.values)\n",
    "y_test = np.log1p(df_test.msrp.values)"
   ],
   "id": "d87db2784e52bcaa",
   "outputs": [],
   "execution_count": 18
  },
  {
   "metadata": {
    "ExecuteTime": {
     "end_time": "2025-10-06T22:31:19.835079Z",
     "start_time": "2025-10-06T22:31:19.820133Z"
    }
   },
   "cell_type": "code",
   "source": [
    "df_train.drop('msrp', axis=1, inplace=True, errors='ignore')\n",
    "df_val.drop('msrp', axis=1, inplace=True, errors='ignore')\n",
    "df_test.drop('msrp', axis=1, inplace=True, errors='ignore')"
   ],
   "id": "c8324434e3db1f86",
   "outputs": [],
   "execution_count": 19
  },
  {
   "metadata": {},
   "cell_type": "markdown",
   "source": "## Linear Regression",
   "id": "c540457e42bd419c"
  },
  {
   "metadata": {
    "ExecuteTime": {
     "end_time": "2025-10-06T22:31:19.937944Z",
     "start_time": "2025-10-06T22:31:19.927837Z"
    }
   },
   "cell_type": "code",
   "source": [
    "def train_linear_regression(X, y):\n",
    "\tones = np.ones(X.shape[0])\n",
    "\tX = np.column_stack([ones, X])\n",
    "\n",
    "\tXTX = X.T.dot(X)\n",
    "\tXTX_inv = np.linalg.inv(XTX)\n",
    "\tw = XTX_inv.dot(X.T).dot(y)\n",
    "\n",
    "\treturn w[0], w[1:]"
   ],
   "id": "56fb1b4358a99ece",
   "outputs": [],
   "execution_count": 20
  },
  {
   "metadata": {
    "ExecuteTime": {
     "end_time": "2025-10-06T22:31:19.969210Z",
     "start_time": "2025-10-06T22:31:19.960961Z"
    }
   },
   "cell_type": "code",
   "source": [
    "def prepare_X(df):\n",
    "\tdf_num = df[base]\n",
    "\tdf_num = df_num.fillna(0)\n",
    "\tX = df_num.values\n",
    "\treturn X"
   ],
   "id": "471bf051ffce9e33",
   "outputs": [],
   "execution_count": 21
  },
  {
   "metadata": {
    "ExecuteTime": {
     "end_time": "2025-10-06T22:31:19.988955Z",
     "start_time": "2025-10-06T22:31:19.982957Z"
    }
   },
   "cell_type": "code",
   "source": "base = ['engine_hp', 'engine_cylinders', 'highway_mpg', 'city_mpg', 'popularity']",
   "id": "5694864960c20413",
   "outputs": [],
   "execution_count": 22
  },
  {
   "metadata": {
    "ExecuteTime": {
     "end_time": "2025-10-06T22:31:20.025245Z",
     "start_time": "2025-10-06T22:31:20.009197Z"
    }
   },
   "cell_type": "code",
   "source": [
    "X_train = prepare_X(df_train)\n",
    "w_0, w = train_linear_regression(X_train, y_train)"
   ],
   "id": "b12639b550d5c855",
   "outputs": [],
   "execution_count": 23
  },
  {
   "metadata": {
    "ExecuteTime": {
     "end_time": "2025-10-06T22:31:20.049756Z",
     "start_time": "2025-10-06T22:31:20.044148Z"
    }
   },
   "cell_type": "code",
   "source": "y_pred = w_0 + X_train.dot(w)",
   "id": "2e3ce39d1031f88a",
   "outputs": [],
   "execution_count": 24
  },
  {
   "metadata": {
    "ExecuteTime": {
     "end_time": "2025-10-06T22:31:20.563076Z",
     "start_time": "2025-10-06T22:31:20.078024Z"
    }
   },
   "cell_type": "code",
   "source": [
    "plt.figure(figsize=(6, 4))\n",
    "\n",
    "sns.histplot(y_train, label='target', color='#222222', alpha=0.6, bins=40)\n",
    "sns.histplot(y_pred, label='prediction', color='#aaaaaa', alpha=0.8, bins=40)\n",
    "\n",
    "plt.legend()\n",
    "\n",
    "plt.ylabel('Frequency')\n",
    "plt.xlabel('Log(Price + 1)')\n",
    "plt.title('Predictions vs actual distribution')\n",
    "\n",
    "plt.show()"
   ],
   "id": "74220d0600b238a6",
   "outputs": [
    {
     "data": {
      "text/plain": [
       "<Figure size 600x400 with 1 Axes>"
      ],
      "image/png": "[encoded data removed]"
     },
     "metadata": {},
     "output_type": "display_data",
     "jetTransient": {
      "display_id": null
     }
    }
   ],
   "execution_count": 25
  }
 ],
 "metadata": {
  "kernelspec": {
   "display_name": "Python 3",
   "language": "python",
   "name": "python3"
  },
  "language_info": {
   "codemirror_mode": {
    "name": "ipython",
    "version": 2
   },
   "file_extension": ".py",
   "mimetype": "text/x-python",
   "name": "python",
   "nbconvert_exporter": "python",
   "pygments_lexer": "ipython2",
   "version": "2.7.6"
  }
 },
 "nbformat": 4,
 "nbformat_minor": 5
}
