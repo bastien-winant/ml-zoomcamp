{
 "cells": [
  {
   "metadata": {},
   "cell_type": "markdown",
   "source": [
    "# Classification\n",
    "## Motivating example\n",
    "A telecom company wants to anticipate a current customer's decision to end their contract and turn to a competitor's services. This would allow for proactivate measures such as targeted ads and promotions to increase the probability that that customer is retained.\n",
    "\n",
    "This is an example of a binary classification problem, whereby each data point is assigned one of two possible discrete classes. In our case, the customer base is split base on whether or not they are predicted to churn in the near future."
   ],
   "id": "6bac11cc300ff8bf"
  },
  {
   "metadata": {
    "ExecuteTime": {
     "end_time": "2025-10-08T22:44:47.364920Z",
     "start_time": "2025-10-08T22:44:47.360041Z"
    }
   },
   "cell_type": "code",
   "source": [
    "import pandas as pd\n",
    "import matplotlib.pyplot as plt\n",
    "import seaborn as sns\n",
    "from sklearn.model_selection import train_test_split\n",
    "from sklearn.metrics import mutual_info_score\n",
    "from sklearn.preprocessing import OneHotEncoder"
   ],
   "id": "63afe44785bf8f88",
   "outputs": [],
   "execution_count": 230
  },
  {
   "metadata": {},
   "cell_type": "markdown",
   "source": "## Data Preparation",
   "id": "b022ae02a363ccaa"
  },
  {
   "cell_type": "code",
   "id": "initial_id",
   "metadata": {
    "collapsed": true,
    "ExecuteTime": {
     "end_time": "2025-10-08T22:40:51.082257Z",
     "start_time": "2025-10-08T22:40:51.045119Z"
    }
   },
   "source": "df = pd.read_csv('data.csv')",
   "outputs": [],
   "execution_count": 205
  },
  {
   "metadata": {
    "ExecuteTime": {
     "end_time": "2025-10-08T22:40:51.118770Z",
     "start_time": "2025-10-08T22:40:51.094779Z"
    }
   },
   "cell_type": "code",
   "source": "df.head()",
   "id": "8f0efc8bc50b3524",
   "outputs": [
    {
     "data": {
      "text/plain": [
       "   customerID  gender  SeniorCitizen Partner Dependents  tenure PhoneService  \\\n",
       "0  7590-VHVEG  Female              0     Yes         No       1           No   \n",
       "1  5575-GNVDE    Male              0      No         No      34          Yes   \n",
       "2  3668-QPYBK    Male              0      No         No       2          Yes   \n",
       "3  7795-CFOCW    Male              0      No         No      45           No   \n",
       "4  9237-HQITU  Female              0      No         No       2          Yes   \n",
       "\n",
       "      MultipleLines InternetService OnlineSecurity  ... DeviceProtection  \\\n",
       "0  No phone service             DSL             No  ...               No   \n",
       "1                No             DSL            Yes  ...              Yes   \n",
       "2                No             DSL            Yes  ...               No   \n",
       "3  No phone service             DSL            Yes  ...              Yes   \n",
       "4                No     Fiber optic             No  ...               No   \n",
       "\n",
       "  TechSupport StreamingTV StreamingMovies        Contract PaperlessBilling  \\\n",
       "0          No          No              No  Month-to-month              Yes   \n",
       "1          No          No              No        One year               No   \n",
       "2          No          No              No  Month-to-month              Yes   \n",
       "3         Yes          No              No        One year               No   \n",
       "4          No          No              No  Month-to-month              Yes   \n",
       "\n",
       "               PaymentMethod MonthlyCharges  TotalCharges Churn  \n",
       "0           Electronic check          29.85         29.85    No  \n",
       "1               Mailed check          56.95        1889.5    No  \n",
       "2               Mailed check          53.85        108.15   Yes  \n",
       "3  Bank transfer (automatic)          42.30       1840.75    No  \n",
       "4           Electronic check          70.70        151.65   Yes  \n",
       "\n",
       "[5 rows x 21 columns]"
      ],
      "text/html": [
       "<div>\n",
       "<style scoped>\n",
       "    .dataframe tbody tr th:only-of-type {\n",
       "        vertical-align: middle;\n",
       "    }\n",
       "\n",
       "    .dataframe tbody tr th {\n",
       "        vertical-align: top;\n",
       "    }\n",
       "\n",
       "    .dataframe thead th {\n",
       "        text-align: right;\n",
       "    }\n",
       "</style>\n",
       "<table border=\"1\" class=\"dataframe\">\n",
       "  <thead>\n",
       "    <tr style=\"text-align: right;\">\n",
       "      <th></th>\n",
       "      <th>customerID</th>\n",
       "      <th>gender</th>\n",
       "      <th>SeniorCitizen</th>\n",
       "      <th>Partner</th>\n",
       "      <th>Dependents</th>\n",
       "      <th>tenure</th>\n",
       "      <th>PhoneService</th>\n",
       "      <th>MultipleLines</th>\n",
       "      <th>InternetService</th>\n",
       "      <th>OnlineSecurity</th>\n",
       "      <th>...</th>\n",
       "      <th>DeviceProtection</th>\n",
       "      <th>TechSupport</th>\n",
       "      <th>StreamingTV</th>\n",
       "      <th>StreamingMovies</th>\n",
       "      <th>Contract</th>\n",
       "      <th>PaperlessBilling</th>\n",
       "      <th>PaymentMethod</th>\n",
       "      <th>MonthlyCharges</th>\n",
       "      <th>TotalCharges</th>\n",
       "      <th>Churn</th>\n",
       "    </tr>\n",
       "  </thead>\n",
       "  <tbody>\n",
       "    <tr>\n",
       "      <th>0</th>\n",
       "      <td>7590-VHVEG</td>\n",
       "      <td>Female</td>\n",
       "      <td>0</td>\n",
       "      <td>Yes</td>\n",
       "      <td>No</td>\n",
       "      <td>1</td>\n",
       "      <td>No</td>\n",
       "      <td>No phone service</td>\n",
       "      <td>DSL</td>\n",
       "      <td>No</td>\n",
       "      <td>...</td>\n",
       "      <td>No</td>\n",
       "      <td>No</td>\n",
       "      <td>No</td>\n",
       "      <td>No</td>\n",
       "      <td>Month-to-month</td>\n",
       "      <td>Yes</td>\n",
       "      <td>Electronic check</td>\n",
       "      <td>29.85</td>\n",
       "      <td>29.85</td>\n",
       "      <td>No</td>\n",
       "    </tr>\n",
       "    <tr>\n",
       "      <th>1</th>\n",
       "      <td>5575-GNVDE</td>\n",
       "      <td>Male</td>\n",
       "      <td>0</td>\n",
       "      <td>No</td>\n",
       "      <td>No</td>\n",
       "      <td>34</td>\n",
       "      <td>Yes</td>\n",
       "      <td>No</td>\n",
       "      <td>DSL</td>\n",
       "      <td>Yes</td>\n",
       "      <td>...</td>\n",
       "      <td>Yes</td>\n",
       "      <td>No</td>\n",
       "      <td>No</td>\n",
       "      <td>No</td>\n",
       "      <td>One year</td>\n",
       "      <td>No</td>\n",
       "      <td>Mailed check</td>\n",
       "      <td>56.95</td>\n",
       "      <td>1889.5</td>\n",
       "      <td>No</td>\n",
       "    </tr>\n",
       "    <tr>\n",
       "      <th>2</th>\n",
       "      <td>3668-QPYBK</td>\n",
       "      <td>Male</td>\n",
       "      <td>0</td>\n",
       "      <td>No</td>\n",
       "      <td>No</td>\n",
       "      <td>2</td>\n",
       "      <td>Yes</td>\n",
       "      <td>No</td>\n",
       "      <td>DSL</td>\n",
       "      <td>Yes</td>\n",
       "      <td>...</td>\n",
       "      <td>No</td>\n",
       "      <td>No</td>\n",
       "      <td>No</td>\n",
       "      <td>No</td>\n",
       "      <td>Month-to-month</td>\n",
       "      <td>Yes</td>\n",
       "      <td>Mailed check</td>\n",
       "      <td>53.85</td>\n",
       "      <td>108.15</td>\n",
       "      <td>Yes</td>\n",
       "    </tr>\n",
       "    <tr>\n",
       "      <th>3</th>\n",
       "      <td>7795-CFOCW</td>\n",
       "      <td>Male</td>\n",
       "      <td>0</td>\n",
       "      <td>No</td>\n",
       "      <td>No</td>\n",
       "      <td>45</td>\n",
       "      <td>No</td>\n",
       "      <td>No phone service</td>\n",
       "      <td>DSL</td>\n",
       "      <td>Yes</td>\n",
       "      <td>...</td>\n",
       "      <td>Yes</td>\n",
       "      <td>Yes</td>\n",
       "      <td>No</td>\n",
       "      <td>No</td>\n",
       "      <td>One year</td>\n",
       "      <td>No</td>\n",
       "      <td>Bank transfer (automatic)</td>\n",
       "      <td>42.30</td>\n",
       "      <td>1840.75</td>\n",
       "      <td>No</td>\n",
       "    </tr>\n",
       "    <tr>\n",
       "      <th>4</th>\n",
       "      <td>9237-HQITU</td>\n",
       "      <td>Female</td>\n",
       "      <td>0</td>\n",
       "      <td>No</td>\n",
       "      <td>No</td>\n",
       "      <td>2</td>\n",
       "      <td>Yes</td>\n",
       "      <td>No</td>\n",
       "      <td>Fiber optic</td>\n",
       "      <td>No</td>\n",
       "      <td>...</td>\n",
       "      <td>No</td>\n",
       "      <td>No</td>\n",
       "      <td>No</td>\n",
       "      <td>No</td>\n",
       "      <td>Month-to-month</td>\n",
       "      <td>Yes</td>\n",
       "      <td>Electronic check</td>\n",
       "      <td>70.70</td>\n",
       "      <td>151.65</td>\n",
       "      <td>Yes</td>\n",
       "    </tr>\n",
       "  </tbody>\n",
       "</table>\n",
       "<p>5 rows × 21 columns</p>\n",
       "</div>"
      ]
     },
     "execution_count": 206,
     "metadata": {},
     "output_type": "execute_result"
    }
   ],
   "execution_count": 206
  },
  {
   "metadata": {
    "ExecuteTime": {
     "end_time": "2025-10-08T22:40:51.221649Z",
     "start_time": "2025-10-08T22:40:51.215688Z"
    }
   },
   "cell_type": "code",
   "source": [
    "# standardize column names\n",
    "df.columns = map(lambda x: x.lower().replace(\" \", \"_\"), df.columns)"
   ],
   "id": "ed6e14f000d5017d",
   "outputs": [],
   "execution_count": 207
  },
  {
   "metadata": {
    "ExecuteTime": {
     "end_time": "2025-10-08T22:40:51.455737Z",
     "start_time": "2025-10-08T22:40:51.356726Z"
    }
   },
   "cell_type": "code",
   "source": [
    "str_cols = df.dtypes[df.dtypes == 'object'].index\n",
    "\n",
    "for col in str_cols:\n",
    "\tdf[col] = df[col].str.lower().str.replace(\" \", \"_\")"
   ],
   "id": "9f13c8fcb4088552",
   "outputs": [],
   "execution_count": 208
  },
  {
   "metadata": {
    "ExecuteTime": {
     "end_time": "2025-10-08T22:40:51.470314Z",
     "start_time": "2025-10-08T22:40:51.463905Z"
    }
   },
   "cell_type": "code",
   "source": [
    "# convert and impute total charges\n",
    "df.totalcharges = pd.to_numeric(df.totalcharges, errors='coerce').fillna(0)"
   ],
   "id": "b65056332966d58a",
   "outputs": [],
   "execution_count": 209
  },
  {
   "metadata": {
    "ExecuteTime": {
     "end_time": "2025-10-08T22:40:51.483428Z",
     "start_time": "2025-10-08T22:40:51.478576Z"
    }
   },
   "cell_type": "code",
   "source": "df.churn = (df.churn == 'yes').astype(int)",
   "id": "c0a826a6ff02ab95",
   "outputs": [],
   "execution_count": 210
  },
  {
   "metadata": {
    "ExecuteTime": {
     "end_time": "2025-10-08T22:40:51.498117Z",
     "start_time": "2025-10-08T22:40:51.489699Z"
    }
   },
   "cell_type": "code",
   "source": "df.drop('customerid', axis=1, inplace=True)",
   "id": "a90db6a896a216b",
   "outputs": [],
   "execution_count": 211
  },
  {
   "metadata": {},
   "cell_type": "markdown",
   "source": "## Validation Framework",
   "id": "ce4612036fb00f40"
  },
  {
   "metadata": {
    "ExecuteTime": {
     "end_time": "2025-10-08T22:40:51.509565Z",
     "start_time": "2025-10-08T22:40:51.504928Z"
    }
   },
   "cell_type": "code",
   "source": [
    "def data_split(df, test_size, val_size, random_state=42):\n",
    "\tdf, df_test = train_test_split(df, test_size=test_size, random_state=random_state)\n",
    "\tdf_train, df_val = train_test_split(df, test_size=val_size/(1-test_size), random_state=random_state)\n",
    "\n",
    "\treturn df_train, df_val, df_test"
   ],
   "id": "2958f14e5f6cdb8b",
   "outputs": [],
   "execution_count": 212
  },
  {
   "metadata": {
    "ExecuteTime": {
     "end_time": "2025-10-08T22:40:51.534985Z",
     "start_time": "2025-10-08T22:40:51.517703Z"
    }
   },
   "cell_type": "code",
   "source": "df_train, df_val, df_test = data_split(df, test_size=.2, val_size=.2, random_state=1)",
   "id": "91cf73481ed59a9f",
   "outputs": [],
   "execution_count": 213
  },
  {
   "metadata": {
    "ExecuteTime": {
     "end_time": "2025-10-08T22:40:51.546068Z",
     "start_time": "2025-10-08T22:40:51.541794Z"
    }
   },
   "cell_type": "code",
   "source": "assert df_val.shape == df_test.shape",
   "id": "dfb1810083ea540b",
   "outputs": [],
   "execution_count": 214
  },
  {
   "metadata": {
    "ExecuteTime": {
     "end_time": "2025-10-08T22:40:51.561526Z",
     "start_time": "2025-10-08T22:40:51.555361Z"
    }
   },
   "cell_type": "code",
   "source": [
    "df_train.reset_index(drop=True, inplace=True)\n",
    "df_val.reset_index(drop=True, inplace=True)\n",
    "df_test.reset_index(drop=True, inplace=True)"
   ],
   "id": "4c10224f719bbeeb",
   "outputs": [],
   "execution_count": 215
  },
  {
   "metadata": {
    "ExecuteTime": {
     "end_time": "2025-10-08T22:40:51.589823Z",
     "start_time": "2025-10-08T22:40:51.572270Z"
    }
   },
   "cell_type": "code",
   "source": [
    "y_train = df_train.churn.values\n",
    "y_val = df_val.churn.values\n",
    "y_test = df_test.churn.values\n",
    "\n",
    "df_train.drop('churn', axis=1, inplace=True)\n",
    "df_val.drop('churn', axis=1, inplace=True)\n",
    "df_test.drop('churn', axis=1, inplace=True)"
   ],
   "id": "e9f7ca08e225d1a5",
   "outputs": [],
   "execution_count": 216
  },
  {
   "metadata": {},
   "cell_type": "markdown",
   "source": "## EDA",
   "id": "bbff5501cb1055f0"
  },
  {
   "metadata": {
    "ExecuteTime": {
     "end_time": "2025-10-08T22:40:51.611706Z",
     "start_time": "2025-10-08T22:40:51.601314Z"
    }
   },
   "cell_type": "code",
   "source": [
    "# target variable distribution\n",
    "100 * df.churn.value_counts(normalize=True)"
   ],
   "id": "2319ffb7601e0cbf",
   "outputs": [
    {
     "data": {
      "text/plain": [
       "churn\n",
       "0    73.463013\n",
       "1    26.536987\n",
       "Name: proportion, dtype: float64"
      ]
     },
     "execution_count": 217,
     "metadata": {},
     "output_type": "execute_result"
    }
   ],
   "execution_count": 217
  },
  {
   "metadata": {
    "ExecuteTime": {
     "end_time": "2025-10-08T22:40:51.717460Z",
     "start_time": "2025-10-08T22:40:51.714168Z"
    }
   },
   "cell_type": "code",
   "source": "global_churn_rate = df.churn.mean()",
   "id": "8f4326e7cb248d8",
   "outputs": [],
   "execution_count": 218
  },
  {
   "metadata": {
    "ExecuteTime": {
     "end_time": "2025-10-08T22:40:51.808269Z",
     "start_time": "2025-10-08T22:40:51.804299Z"
    }
   },
   "cell_type": "code",
   "source": [
    "numerical = ['tenure', 'monthlycharges', 'totalcharges']\n",
    "categorical = list(set(df.columns).difference(set(numerical)))"
   ],
   "id": "b6ec9e9d27b676f",
   "outputs": [],
   "execution_count": 219
  },
  {
   "metadata": {
    "ExecuteTime": {
     "end_time": "2025-10-08T22:40:51.857700Z",
     "start_time": "2025-10-08T22:40:51.830402Z"
    }
   },
   "cell_type": "code",
   "source": "df[categorical].nunique()",
   "id": "dcb74d61675a9d89",
   "outputs": [
    {
     "data": {
      "text/plain": [
       "streamingmovies     3\n",
       "churn               2\n",
       "seniorcitizen       2\n",
       "streamingtv         3\n",
       "dependents          2\n",
       "contract            3\n",
       "paperlessbilling    2\n",
       "partner             2\n",
       "gender              2\n",
       "deviceprotection    3\n",
       "internetservice     3\n",
       "onlinesecurity      3\n",
       "onlinebackup        3\n",
       "techsupport         3\n",
       "phoneservice        2\n",
       "paymentmethod       4\n",
       "multiplelines       3\n",
       "dtype: int64"
      ]
     },
     "execution_count": 220,
     "metadata": {},
     "output_type": "execute_result"
    }
   ],
   "execution_count": 220
  },
  {
   "metadata": {},
   "cell_type": "markdown",
   "source": [
    "### Feature Importance\n",
    "#### Churn Rate & Risk Ratio"
   ],
   "id": "74e6797a5e0ee567"
  },
  {
   "metadata": {
    "ExecuteTime": {
     "end_time": "2025-10-08T22:40:51.955801Z",
     "start_time": "2025-10-08T22:40:51.940316Z"
    }
   },
   "cell_type": "code",
   "source": [
    "# churn rate by gender\n",
    "gender_churn = df.groupby(['gender'], as_index=False).churn.mean()\n",
    "gender_churn['diff'] = global_churn_rate - gender_churn.churn\n",
    "gender_churn['risk_ratio'] = gender_churn.churn / global_churn_rate\n",
    "gender_churn"
   ],
   "id": "982899c507418cd2",
   "outputs": [
    {
     "data": {
      "text/plain": [
       "   gender     churn      diff  risk_ratio\n",
       "0  female  0.269209 -0.003839    1.014466\n",
       "1    male  0.261603  0.003766    0.985807"
      ],
      "text/html": [
       "<div>\n",
       "<style scoped>\n",
       "    .dataframe tbody tr th:only-of-type {\n",
       "        vertical-align: middle;\n",
       "    }\n",
       "\n",
       "    .dataframe tbody tr th {\n",
       "        vertical-align: top;\n",
       "    }\n",
       "\n",
       "    .dataframe thead th {\n",
       "        text-align: right;\n",
       "    }\n",
       "</style>\n",
       "<table border=\"1\" class=\"dataframe\">\n",
       "  <thead>\n",
       "    <tr style=\"text-align: right;\">\n",
       "      <th></th>\n",
       "      <th>gender</th>\n",
       "      <th>churn</th>\n",
       "      <th>diff</th>\n",
       "      <th>risk_ratio</th>\n",
       "    </tr>\n",
       "  </thead>\n",
       "  <tbody>\n",
       "    <tr>\n",
       "      <th>0</th>\n",
       "      <td>female</td>\n",
       "      <td>0.269209</td>\n",
       "      <td>-0.003839</td>\n",
       "      <td>1.014466</td>\n",
       "    </tr>\n",
       "    <tr>\n",
       "      <th>1</th>\n",
       "      <td>male</td>\n",
       "      <td>0.261603</td>\n",
       "      <td>0.003766</td>\n",
       "      <td>0.985807</td>\n",
       "    </tr>\n",
       "  </tbody>\n",
       "</table>\n",
       "</div>"
      ]
     },
     "execution_count": 221,
     "metadata": {},
     "output_type": "execute_result"
    }
   ],
   "execution_count": 221
  },
  {
   "metadata": {
    "ExecuteTime": {
     "end_time": "2025-10-08T22:40:52.298149Z",
     "start_time": "2025-10-08T22:40:52.277559Z"
    }
   },
   "cell_type": "code",
   "source": [
    "# churn rate by relationship status\n",
    "partner_churn = df.groupby(['partner'], as_index=False).churn.mean()\n",
    "partner_churn['diff'] = global_churn_rate - partner_churn.churn\n",
    "partner_churn['risk_ratio'] = partner_churn.churn / global_churn_rate\n",
    "partner_churn"
   ],
   "id": "558f3ccf8c7e749",
   "outputs": [
    {
     "data": {
      "text/plain": [
       "  partner     churn      diff  risk_ratio\n",
       "0      no  0.329580 -0.064210    1.241964\n",
       "1     yes  0.196649  0.068721    0.741038"
      ],
      "text/html": [
       "<div>\n",
       "<style scoped>\n",
       "    .dataframe tbody tr th:only-of-type {\n",
       "        vertical-align: middle;\n",
       "    }\n",
       "\n",
       "    .dataframe tbody tr th {\n",
       "        vertical-align: top;\n",
       "    }\n",
       "\n",
       "    .dataframe thead th {\n",
       "        text-align: right;\n",
       "    }\n",
       "</style>\n",
       "<table border=\"1\" class=\"dataframe\">\n",
       "  <thead>\n",
       "    <tr style=\"text-align: right;\">\n",
       "      <th></th>\n",
       "      <th>partner</th>\n",
       "      <th>churn</th>\n",
       "      <th>diff</th>\n",
       "      <th>risk_ratio</th>\n",
       "    </tr>\n",
       "  </thead>\n",
       "  <tbody>\n",
       "    <tr>\n",
       "      <th>0</th>\n",
       "      <td>no</td>\n",
       "      <td>0.329580</td>\n",
       "      <td>-0.064210</td>\n",
       "      <td>1.241964</td>\n",
       "    </tr>\n",
       "    <tr>\n",
       "      <th>1</th>\n",
       "      <td>yes</td>\n",
       "      <td>0.196649</td>\n",
       "      <td>0.068721</td>\n",
       "      <td>0.741038</td>\n",
       "    </tr>\n",
       "  </tbody>\n",
       "</table>\n",
       "</div>"
      ]
     },
     "execution_count": 222,
     "metadata": {},
     "output_type": "execute_result"
    }
   ],
   "execution_count": 222
  },
  {
   "metadata": {
    "ExecuteTime": {
     "end_time": "2025-10-08T22:40:52.505207Z",
     "start_time": "2025-10-08T22:40:52.411143Z"
    }
   },
   "cell_type": "code",
   "source": [
    "for c in categorical:\n",
    "\tprint(c.upper())\n",
    "\tgroup_churn = df.groupby(c, as_index=False).churn.mean()\n",
    "\tgroup_churn['diff'] = global_churn_rate - group_churn.churn\n",
    "\tgroup_churn['risk_ratio'] = group_churn.churn / global_churn_rate\n",
    "\tprint(group_churn)\n",
    "\tprint(\"\\n===================================================\\n\")"
   ],
   "id": "f5ea4ee5214880ef",
   "outputs": [
    {
     "name": "stdout",
     "output_type": "stream",
     "text": [
      "STREAMINGMOVIES\n",
      "       streamingmovies     churn      diff  risk_ratio\n",
      "0                   no  0.336804 -0.071434    1.269188\n",
      "1  no_internet_service  0.074050  0.191320    0.279044\n",
      "2                  yes  0.299414 -0.034044    1.128291\n",
      "\n",
      "===================================================\n",
      "\n",
      "CHURN\n",
      "   churn     diff  risk_ratio\n",
      "0    0.0  0.26537    0.000000\n",
      "1    1.0 -0.73463    3.768325\n",
      "\n",
      "===================================================\n",
      "\n",
      "SENIORCITIZEN\n",
      "   seniorcitizen     churn      diff  risk_ratio\n",
      "0              0  0.236062  0.029308    0.889557\n",
      "1              1  0.416813 -0.151443    1.570686\n",
      "\n",
      "===================================================\n",
      "\n",
      "STREAMINGTV\n",
      "           streamingtv     churn      diff  risk_ratio\n",
      "0                   no  0.335231 -0.069861    1.263261\n",
      "1  no_internet_service  0.074050  0.191320    0.279044\n",
      "2                  yes  0.300702 -0.035332    1.133143\n",
      "\n",
      "===================================================\n",
      "\n",
      "DEPENDENTS\n",
      "  dependents     churn      diff  risk_ratio\n",
      "0         no  0.312791 -0.047422    1.178700\n",
      "1        yes  0.154502  0.110868    0.582215\n",
      "\n",
      "===================================================\n",
      "\n",
      "CONTRACT\n",
      "         contract     churn      diff  risk_ratio\n",
      "0  month-to-month  0.427097 -0.161727    1.609440\n",
      "1        one_year  0.112695  0.152675    0.424672\n",
      "2        two_year  0.028319  0.237051    0.106714\n",
      "\n",
      "===================================================\n",
      "\n",
      "PAPERLESSBILLING\n",
      "  paperlessbilling     churn      diff  risk_ratio\n",
      "0               no  0.163301  0.102069    0.615371\n",
      "1              yes  0.335651 -0.070281    1.264842\n",
      "\n",
      "===================================================\n",
      "\n",
      "PARTNER\n",
      "  partner     churn      diff  risk_ratio\n",
      "0      no  0.329580 -0.064210    1.241964\n",
      "1     yes  0.196649  0.068721    0.741038\n",
      "\n",
      "===================================================\n",
      "\n",
      "GENDER\n",
      "   gender     churn      diff  risk_ratio\n",
      "0  female  0.269209 -0.003839    1.014466\n",
      "1    male  0.261603  0.003766    0.985807\n",
      "\n",
      "===================================================\n",
      "\n",
      "DEVICEPROTECTION\n",
      "      deviceprotection     churn      diff  risk_ratio\n",
      "0                   no  0.391276 -0.125906    1.474456\n",
      "1  no_internet_service  0.074050  0.191320    0.279044\n",
      "2                  yes  0.225021  0.040349    0.847951\n",
      "\n",
      "===================================================\n",
      "\n",
      "INTERNETSERVICE\n",
      "  internetservice     churn      diff  risk_ratio\n",
      "0             dsl  0.189591  0.075779    0.714441\n",
      "1     fiber_optic  0.418928 -0.153558    1.578656\n",
      "2              no  0.074050  0.191320    0.279044\n",
      "\n",
      "===================================================\n",
      "\n",
      "ONLINESECURITY\n",
      "        onlinesecurity     churn      diff  risk_ratio\n",
      "0                   no  0.417667 -0.152297    1.573906\n",
      "1  no_internet_service  0.074050  0.191320    0.279044\n",
      "2                  yes  0.146112  0.119258    0.550597\n",
      "\n",
      "===================================================\n",
      "\n",
      "ONLINEBACKUP\n",
      "          onlinebackup     churn      diff  risk_ratio\n",
      "0                   no  0.399288 -0.133918    1.504645\n",
      "1  no_internet_service  0.074050  0.191320    0.279044\n",
      "2                  yes  0.215315  0.050055    0.811377\n",
      "\n",
      "===================================================\n",
      "\n",
      "TECHSUPPORT\n",
      "           techsupport     churn      diff  risk_ratio\n",
      "0                   no  0.416355 -0.150985    1.568960\n",
      "1  no_internet_service  0.074050  0.191320    0.279044\n",
      "2                  yes  0.151663  0.113706    0.571517\n",
      "\n",
      "===================================================\n",
      "\n",
      "PHONESERVICE\n",
      "  phoneservice     churn      diff  risk_ratio\n",
      "0           no  0.249267  0.016103    0.939319\n",
      "1          yes  0.267096 -0.001726    1.006506\n",
      "\n",
      "===================================================\n",
      "\n",
      "PAYMENTMETHOD\n",
      "               paymentmethod     churn      diff  risk_ratio\n",
      "0  bank_transfer_(automatic)  0.167098  0.098271    0.629681\n",
      "1    credit_card_(automatic)  0.152431  0.112939    0.574410\n",
      "2           electronic_check  0.452854 -0.187484    1.706502\n",
      "3               mailed_check  0.191067  0.074303    0.720003\n",
      "\n",
      "===================================================\n",
      "\n",
      "MULTIPLELINES\n",
      "      multiplelines     churn      diff  risk_ratio\n",
      "0                no  0.250442  0.014927    0.943749\n",
      "1  no_phone_service  0.249267  0.016103    0.939319\n",
      "2               yes  0.286099 -0.020729    1.078114\n",
      "\n",
      "===================================================\n",
      "\n"
     ]
    }
   ],
   "execution_count": 223
  },
  {
   "metadata": {},
   "cell_type": "markdown",
   "source": "#### Mutual Information",
   "id": "aaaec969e9335b21"
  },
  {
   "metadata": {
    "ExecuteTime": {
     "end_time": "2025-10-08T22:40:52.581839Z",
     "start_time": "2025-10-08T22:40:52.578408Z"
    }
   },
   "cell_type": "code",
   "source": [
    "def mutual_info_churn_score(series):\n",
    "\treturn mutual_info_score(series, df.churn)"
   ],
   "id": "3162d2f0f139d0f3",
   "outputs": [],
   "execution_count": 224
  },
  {
   "metadata": {
    "ExecuteTime": {
     "end_time": "2025-10-08T22:40:52.795288Z",
     "start_time": "2025-10-08T22:40:52.609707Z"
    }
   },
   "cell_type": "code",
   "source": [
    "df_mutual_info = df[categorical].drop('churn', axis=1).apply(mutual_info_churn_score)\n",
    "df_mutual_info.sort_values(inplace=True)"
   ],
   "id": "f901d591f40ac086",
   "outputs": [],
   "execution_count": 225
  },
  {
   "metadata": {
    "ExecuteTime": {
     "end_time": "2025-10-08T22:40:53.190443Z",
     "start_time": "2025-10-08T22:40:52.804529Z"
    }
   },
   "cell_type": "code",
   "source": [
    "sns.barplot(x=df_mutual_info.index, y=df_mutual_info.values)\n",
    "plt.xticks(rotation=60)\n",
    "plt.title(\"Feature Importance\")\n",
    "plt.xlabel('Variable')\n",
    "plt.ylabel('Mutual Information Score')\n",
    "plt.show()"
   ],
   "id": "7ac9695c618efd6",
   "outputs": [
    {
     "data": {
      "text/plain": [
       "<Figure size 640x480 with 1 Axes>"
      ],
      "image/png": "[encoded data removed]"
     },
     "metadata": {},
     "output_type": "display_data",
     "jetTransient": {
      "display_id": null
     }
    }
   ],
   "execution_count": 226
  },
  {
   "metadata": {},
   "cell_type": "markdown",
   "source": "#### Correlation",
   "id": "ca5d76654b8ac6ec"
  },
  {
   "metadata": {
    "ExecuteTime": {
     "end_time": "2025-10-08T22:43:04.008847Z",
     "start_time": "2025-10-08T22:43:03.993164Z"
    }
   },
   "cell_type": "code",
   "source": [
    "df_corr = df[numerical].corrwith(df.churn)\n",
    "df_corr.sort_values(inplace=True)"
   ],
   "id": "1889bccfed5c584a",
   "outputs": [],
   "execution_count": 227
  },
  {
   "metadata": {
    "ExecuteTime": {
     "end_time": "2025-10-08T22:43:10.232120Z",
     "start_time": "2025-10-08T22:43:10.222412Z"
    }
   },
   "cell_type": "code",
   "source": "df_corr",
   "id": "1bbb8eaec02725b7",
   "outputs": [
    {
     "data": {
      "text/plain": [
       "tenure           -0.352229\n",
       "totalcharges     -0.198324\n",
       "monthlycharges    0.193356\n",
       "dtype: float64"
      ]
     },
     "execution_count": 228,
     "metadata": {},
     "output_type": "execute_result"
    }
   ],
   "execution_count": 228
  },
  {
   "metadata": {
    "ExecuteTime": {
     "end_time": "2025-10-08T22:44:15.694878Z",
     "start_time": "2025-10-08T22:44:15.500325Z"
    }
   },
   "cell_type": "code",
   "source": [
    "sns.barplot(x=df_corr.index, y=df_corr.values)\n",
    "plt.xticks(rotation=60)\n",
    "plt.title(\"Feature Correlations with customer churn\")\n",
    "plt.xlabel('Variable')\n",
    "plt.ylabel('Pairwise Correlation')\n",
    "plt.show()"
   ],
   "id": "eaeebb7585285851",
   "outputs": [
    {
     "data": {
      "text/plain": [
       "<Figure size 640x480 with 1 Axes>"
      ],
      "image/png": "[encoded data removed]"
     },
     "metadata": {},
     "output_type": "display_data",
     "jetTransient": {
      "display_id": null
     }
    }
   ],
   "execution_count": 229
  },
  {
   "metadata": {},
   "cell_type": "code",
   "outputs": [],
   "execution_count": null,
   "source": "",
   "id": "90f30cd7e7df4cb9"
  }
 ],
 "metadata": {
  "kernelspec": {
   "display_name": "Python 3",
   "language": "python",
   "name": "python3"
  },
  "language_info": {
   "codemirror_mode": {
    "name": "ipython",
    "version": 2
   },
   "file_extension": ".py",
   "mimetype": "text/x-python",
   "name": "python",
   "nbconvert_exporter": "python",
   "pygments_lexer": "ipython2",
   "version": "2.7.6"
  }
 },
 "nbformat": 4,
 "nbformat_minor": 5
}
