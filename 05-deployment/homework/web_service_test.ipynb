{
 "cells": [
  {
   "cell_type": "code",
   "id": "initial_id",
   "metadata": {
    "collapsed": true,
    "ExecuteTime": {
     "end_time": "2025-10-29T20:45:37.703210Z",
     "start_time": "2025-10-29T20:45:37.699463Z"
    }
   },
   "source": "import requests",
   "outputs": [],
   "execution_count": 17
  },
  {
   "metadata": {
    "ExecuteTime": {
     "end_time": "2025-10-29T20:45:37.718896Z",
     "start_time": "2025-10-29T20:45:37.715496Z"
    }
   },
   "cell_type": "code",
   "source": "url = \"http://127.0.0.1:8000/predict\"",
   "id": "93b10e43e2b6778c",
   "outputs": [],
   "execution_count": 18
  },
  {
   "metadata": {
    "ExecuteTime": {
     "end_time": "2025-10-29T20:45:37.739312Z",
     "start_time": "2025-10-29T20:45:37.735110Z"
    }
   },
   "cell_type": "code",
   "source": [
    "client = {\n",
    "    \"lead_source\": \"organic_search\",\n",
    "    \"number_of_courses_viewed\": 4,\n",
    "    \"annual_income\": 80304.0\n",
    "}"
   ],
   "id": "61cd289eb436cb97",
   "outputs": [],
   "execution_count": 19
  },
  {
   "metadata": {
    "ExecuteTime": {
     "end_time": "2025-10-29T20:45:41.884151Z",
     "start_time": "2025-10-29T20:45:41.871059Z"
    }
   },
   "cell_type": "code",
   "source": "requests.post(url, json=client).json()",
   "id": "9bfd3166a68320b4",
   "outputs": [
    {
     "data": {
      "text/plain": [
       "{'conversion_probability': 0.5340417283801275, 'conversion': True}"
      ]
     },
     "execution_count": 21,
     "metadata": {},
     "output_type": "execute_result"
    }
   ],
   "execution_count": 21
  }
 ],
 "metadata": {
  "kernelspec": {
   "display_name": "Python 3",
   "language": "python",
   "name": "python3"
  },
  "language_info": {
   "codemirror_mode": {
    "name": "ipython",
    "version": 2
   },
   "file_extension": ".py",
   "mimetype": "text/x-python",
   "name": "python",
   "nbconvert_exporter": "python",
   "pygments_lexer": "ipython2",
   "version": "2.7.6"
  }
 },
 "nbformat": 4,
 "nbformat_minor": 5
}
