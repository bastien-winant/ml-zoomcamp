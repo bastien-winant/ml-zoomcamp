{
 "cells": [
  {
   "metadata": {},
   "cell_type": "markdown",
   "source": "# ML Deployment",
   "id": "c022038efba1df36"
  },
  {
   "cell_type": "code",
   "id": "initial_id",
   "metadata": {
    "collapsed": true,
    "ExecuteTime": {
     "end_time": "2025-10-27T17:08:10.675604Z",
     "start_time": "2025-10-27T17:08:10.670328Z"
    }
   },
   "source": [
    "import pandas as pd\n",
    "import numpy as np\n",
    "\n",
    "from sklearn.model_selection import train_test_split, KFold\n",
    "from sklearn.feature_extraction import DictVectorizer\n",
    "from sklearn.linear_model import LogisticRegression\n",
    "from sklearn.metrics import roc_auc_score\n",
    "\n",
    "import pickle"
   ],
   "outputs": [],
   "execution_count": 48
  },
  {
   "metadata": {},
   "cell_type": "markdown",
   "source": "## Data Preparation",
   "id": "fab72e5833d95669"
  },
  {
   "metadata": {
    "ExecuteTime": {
     "end_time": "2025-10-27T17:08:11.084461Z",
     "start_time": "2025-10-27T17:08:10.689313Z"
    }
   },
   "cell_type": "code",
   "source": [
    "data_url = \"https://raw.githubusercontent.com/alexeygrigorev/mlbookcamp-code/master/chapter-03-churn-prediction/WA_Fn-UseC_-Telco-Customer-Churn.csv\"\n",
    "df = pd.read_csv(data_url)"
   ],
   "id": "2fe071db0c641bfd",
   "outputs": [],
   "execution_count": 49
  },
  {
   "metadata": {
    "ExecuteTime": {
     "end_time": "2025-10-27T17:08:11.154645Z",
     "start_time": "2025-10-27T17:08:11.092646Z"
    }
   },
   "cell_type": "code",
   "source": [
    "df.columns = df.columns.str.lower().str.replace(' ', '_')\n",
    "\n",
    "categorical_columns = list(df.dtypes[df.dtypes == 'object'].index)\n",
    "\n",
    "for c in categorical_columns:\n",
    "    df[c] = df[c].str.lower().str.replace(' ', '_')\n",
    "\n",
    "df.totalcharges = pd.to_numeric(df.totalcharges, errors='coerce')\n",
    "df.totalcharges = df.totalcharges.fillna(0)\n",
    "\n",
    "df.churn = (df.churn == 'yes').astype(int)"
   ],
   "id": "97fe663ebd91c90a",
   "outputs": [],
   "execution_count": 50
  },
  {
   "metadata": {
    "ExecuteTime": {
     "end_time": "2025-10-27T17:08:11.175412Z",
     "start_time": "2025-10-27T17:08:11.163929Z"
    }
   },
   "cell_type": "code",
   "source": "df_full_train, df_test = train_test_split(df, test_size=0.2, random_state=1)",
   "id": "ba495236e75ff28e",
   "outputs": [],
   "execution_count": 51
  },
  {
   "metadata": {
    "ExecuteTime": {
     "end_time": "2025-10-27T17:08:11.185703Z",
     "start_time": "2025-10-27T17:08:11.182484Z"
    }
   },
   "cell_type": "code",
   "source": [
    "numerical = ['tenure', 'monthlycharges', 'totalcharges']\n",
    "\n",
    "categorical = [\n",
    "    'gender',\n",
    "    'seniorcitizen',\n",
    "    'partner',\n",
    "    'dependents',\n",
    "    'phoneservice',\n",
    "    'multiplelines',\n",
    "    'internetservice',\n",
    "    'onlinesecurity',\n",
    "    'onlinebackup',\n",
    "    'deviceprotection',\n",
    "    'techsupport',\n",
    "    'streamingtv',\n",
    "    'streamingmovies',\n",
    "    'contract',\n",
    "    'paperlessbilling',\n",
    "    'paymentmethod',\n",
    "]"
   ],
   "id": "331283a5f45109db",
   "outputs": [],
   "execution_count": 52
  },
  {
   "metadata": {},
   "cell_type": "markdown",
   "source": "## Model Training",
   "id": "631732a679bfe020"
  },
  {
   "metadata": {
    "ExecuteTime": {
     "end_time": "2025-10-27T17:08:11.196079Z",
     "start_time": "2025-10-27T17:08:11.192280Z"
    }
   },
   "cell_type": "code",
   "source": [
    "def train(df_train, y_train, C=1.0):\n",
    "    dicts = df_train[categorical + numerical].to_dict(orient='records')\n",
    "\n",
    "    dv = DictVectorizer(sparse=False)\n",
    "    X_train = dv.fit_transform(dicts)\n",
    "\n",
    "    model = LogisticRegression(C=C, max_iter=10000)\n",
    "    model.fit(X_train, y_train)\n",
    "\n",
    "    return dv, model"
   ],
   "id": "e395d521d94acb86",
   "outputs": [],
   "execution_count": 53
  },
  {
   "metadata": {
    "ExecuteTime": {
     "end_time": "2025-10-27T17:08:11.206628Z",
     "start_time": "2025-10-27T17:08:11.203078Z"
    }
   },
   "cell_type": "code",
   "source": [
    "def predict(df, dv, model):\n",
    "    dicts = df[categorical + numerical].to_dict(orient='records')\n",
    "\n",
    "    X = dv.transform(dicts)\n",
    "    y_pred = model.predict_proba(X)[:, 1]\n",
    "\n",
    "    return y_pred"
   ],
   "id": "75c1f41c99edb7c4",
   "outputs": [],
   "execution_count": 54
  },
  {
   "metadata": {
    "ExecuteTime": {
     "end_time": "2025-10-27T17:08:11.215411Z",
     "start_time": "2025-10-27T17:08:11.212856Z"
    }
   },
   "cell_type": "code",
   "source": [
    "C = 1.0\n",
    "n_splits = 5"
   ],
   "id": "bf8888e4e98cd798",
   "outputs": [],
   "execution_count": 55
  },
  {
   "metadata": {
    "ExecuteTime": {
     "end_time": "2025-10-27T17:08:15.653663Z",
     "start_time": "2025-10-27T17:08:11.224823Z"
    }
   },
   "cell_type": "code",
   "source": [
    "kfold = KFold(n_splits=n_splits, shuffle=True, random_state=1)\n",
    "\n",
    "scores = []\n",
    "\n",
    "for train_idx, val_idx in kfold.split(df_full_train):\n",
    "    df_train = df_full_train.iloc[train_idx]\n",
    "    df_val = df_full_train.iloc[val_idx]\n",
    "\n",
    "    y_train = df_train.churn.values\n",
    "    y_val = df_val.churn.values\n",
    "\n",
    "    dv, model = train(df_train, y_train, C=C)\n",
    "    y_pred = predict(df_val, dv, model)\n",
    "\n",
    "    auc = roc_auc_score(y_val, y_pred)\n",
    "    scores.append(auc)\n",
    "\n",
    "print('C=%s %.3f +- %.3f' % (C, np.mean(scores), np.std(scores)))"
   ],
   "id": "eb75ffbc0d44318e",
   "outputs": [
    {
     "name": "stdout",
     "output_type": "stream",
     "text": [
      "C=1.0 0.842 +- 0.007\n"
     ]
    }
   ],
   "execution_count": 56
  },
  {
   "metadata": {
    "ExecuteTime": {
     "end_time": "2025-10-27T17:08:15.748284Z",
     "start_time": "2025-10-27T17:08:15.739847Z"
    }
   },
   "cell_type": "code",
   "source": [
    "df_test = df_test.reset_index(drop=True)\n",
    "y_test = df_test.churn.values\n",
    "del df_test['churn']"
   ],
   "id": "5753866eab1aed5e",
   "outputs": [],
   "execution_count": 57
  },
  {
   "metadata": {
    "ExecuteTime": {
     "end_time": "2025-10-27T17:08:16.847493Z",
     "start_time": "2025-10-27T17:08:15.754656Z"
    }
   },
   "cell_type": "code",
   "source": [
    "dv, model = train(df_full_train, df_full_train.churn.values, C=1.0)\n",
    "y_pred = predict(df_test, dv, model)\n",
    "\n",
    "auc = roc_auc_score(y_test, y_pred)"
   ],
   "id": "a20cfd349f59380c",
   "outputs": [],
   "execution_count": 58
  },
  {
   "metadata": {},
   "cell_type": "markdown",
   "source": "## Saving the model",
   "id": "4421a363820c85e7"
  },
  {
   "metadata": {
    "ExecuteTime": {
     "end_time": "2025-10-27T17:08:16.911412Z",
     "start_time": "2025-10-27T17:08:16.908265Z"
    }
   },
   "cell_type": "code",
   "source": "output_file = f\"model_C={C}.bin\"",
   "id": "c44b02fb838b8a9c",
   "outputs": [],
   "execution_count": 59
  },
  {
   "metadata": {
    "ExecuteTime": {
     "end_time": "2025-10-27T17:08:16.925073Z",
     "start_time": "2025-10-27T17:08:16.919677Z"
    }
   },
   "cell_type": "code",
   "source": [
    "with open(output_file, 'wb') as f_out:\n",
    "\tpickle.dump((dv, model), f_out)"
   ],
   "id": "cb3276031932aa27",
   "outputs": [],
   "execution_count": 60
  },
  {
   "metadata": {
    "ExecuteTime": {
     "end_time": "2025-10-27T17:08:16.942329Z",
     "start_time": "2025-10-27T17:08:16.935904Z"
    }
   },
   "cell_type": "code",
   "source": [
    "with open(output_file, 'rb') as f_in:\n",
    "\tdv, model = pickle.load(f_in)"
   ],
   "id": "b1d7027e75777c92",
   "outputs": [],
   "execution_count": 61
  },
  {
   "metadata": {
    "ExecuteTime": {
     "end_time": "2025-10-27T17:09:06.935938Z",
     "start_time": "2025-10-27T17:09:06.929609Z"
    }
   },
   "cell_type": "code",
   "source": "customer = df_test.iloc[101].to_dict()",
   "id": "78804798d50025f8",
   "outputs": [],
   "execution_count": 66
  },
  {
   "metadata": {
    "ExecuteTime": {
     "end_time": "2025-10-27T17:23:41.973866Z",
     "start_time": "2025-10-27T17:23:41.953833Z"
    }
   },
   "cell_type": "code",
   "source": "customer",
   "id": "b5b0a3f64b238d39",
   "outputs": [
    {
     "data": {
      "text/plain": [
       "{'customerid': '6946-lmsqs',\n",
       " 'gender': 'male',\n",
       " 'seniorcitizen': 1,\n",
       " 'partner': 'yes',\n",
       " 'dependents': 'no',\n",
       " 'tenure': 25,\n",
       " 'phoneservice': 'yes',\n",
       " 'multiplelines': 'yes',\n",
       " 'internetservice': 'fiber_optic',\n",
       " 'onlinesecurity': 'yes',\n",
       " 'onlinebackup': 'no',\n",
       " 'deviceprotection': 'no',\n",
       " 'techsupport': 'no',\n",
       " 'streamingtv': 'no',\n",
       " 'streamingmovies': 'yes',\n",
       " 'contract': 'one_year',\n",
       " 'paperlessbilling': 'yes',\n",
       " 'paymentmethod': 'electronic_check',\n",
       " 'monthlycharges': 89.05,\n",
       " 'totalcharges': 2177.45}"
      ]
     },
     "execution_count": 70,
     "metadata": {},
     "output_type": "execute_result"
    }
   ],
   "execution_count": 70
  },
  {
   "metadata": {
    "ExecuteTime": {
     "end_time": "2025-10-27T17:09:07.548721Z",
     "start_time": "2025-10-27T17:09:07.543401Z"
    }
   },
   "cell_type": "code",
   "source": "X = dv.transform([customer])",
   "id": "65e7f852f16f5605",
   "outputs": [],
   "execution_count": 67
  },
  {
   "metadata": {
    "ExecuteTime": {
     "end_time": "2025-10-27T17:09:08.014462Z",
     "start_time": "2025-10-27T17:09:08.010434Z"
    }
   },
   "cell_type": "code",
   "source": "prediction_prob = model.predict_proba(X)[0, 1]",
   "id": "1afe69f4b4e1ad94",
   "outputs": [],
   "execution_count": 68
  },
  {
   "metadata": {
    "ExecuteTime": {
     "end_time": "2025-10-27T17:09:08.475665Z",
     "start_time": "2025-10-27T17:09:08.469087Z"
    }
   },
   "cell_type": "code",
   "source": "prediction_prob",
   "id": "d26bb49db13aaa53",
   "outputs": [
    {
     "data": {
      "text/plain": [
       "0.4429480026025095"
      ]
     },
     "execution_count": 69,
     "metadata": {},
     "output_type": "execute_result"
    }
   ],
   "execution_count": 69
  },
  {
   "metadata": {
    "ExecuteTime": {
     "end_time": "2025-10-27T17:08:17.030637Z",
     "start_time": "2025-10-27T17:08:17.028355Z"
    }
   },
   "cell_type": "code",
   "source": "",
   "id": "2954d1b2544cd7c8",
   "outputs": [],
   "execution_count": null
  }
 ],
 "metadata": {
  "kernelspec": {
   "display_name": "Python 3",
   "language": "python",
   "name": "python3"
  },
  "language_info": {
   "codemirror_mode": {
    "name": "ipython",
    "version": 2
   },
   "file_extension": ".py",
   "mimetype": "text/x-python",
   "name": "python",
   "nbconvert_exporter": "python",
   "pygments_lexer": "ipython2",
   "version": "2.7.6"
  }
 },
 "nbformat": 4,
 "nbformat_minor": 5
}
