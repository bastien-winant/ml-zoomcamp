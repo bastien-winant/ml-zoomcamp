{
 "cells": [
  {
   "cell_type": "code",
   "id": "b3ff7c44",
   "metadata": {
    "ExecuteTime": {
     "end_time": "2025-10-29T15:14:23.770587Z",
     "start_time": "2025-10-29T15:14:20.405076Z"
    }
   },
   "source": [
    "import pandas as pd\n",
    "import numpy as np\n",
    "\n",
    "from sklearn.preprocessing import OneHotEncoder\n",
    "from sklearn.linear_model import LogisticRegression\n",
    "\n",
    "from sklearn.model_selection import KFold, train_test_split\n",
    "from sklearn.metrics import roc_auc_score\n",
    "\n",
    "import pickle"
   ],
   "outputs": [],
   "execution_count": 1
  },
  {
   "metadata": {},
   "cell_type": "markdown",
   "source": "## Data Preprocessing",
   "id": "b48c2134f85333a3"
  },
  {
   "cell_type": "code",
   "id": "81ee3ecc",
   "metadata": {
    "ExecuteTime": {
     "end_time": "2025-10-29T15:14:24.082599Z",
     "start_time": "2025-10-29T15:14:23.778531Z"
    }
   },
   "source": [
    "url = \"https://raw.githubusercontent.com/alexeygrigorev/mlbookcamp-code/master/chapter-03-churn-prediction/WA_Fn-UseC_-Telco-Customer-Churn.csv\"\n",
    "df = pd.read_csv(url)\n",
    "\n",
    "df.columns = df.columns.str.lower().str.replace(' ', '_')\n",
    "\n",
    "categorical_columns = df.select_dtypes(exclude='number').columns\n",
    "\n",
    "for c in categorical_columns:\n",
    "    df[c] = df[c].str.lower().str.replace(' ', '_')\n",
    "\n",
    "df.totalcharges = pd.to_numeric(df.totalcharges, errors='coerce')\n",
    "df.totalcharges = df.totalcharges.fillna(0)\n",
    "\n",
    "df.churn = (df.churn == 'yes').astype(int)\n",
    "\n",
    "df.drop('customerid', axis=1, inplace=True)"
   ],
   "outputs": [],
   "execution_count": 2
  },
  {
   "cell_type": "code",
   "id": "0b1903b3",
   "metadata": {
    "ExecuteTime": {
     "end_time": "2025-10-29T15:14:24.099700Z",
     "start_time": "2025-10-29T15:14:24.090855Z"
    }
   },
   "source": "df_full_train, df_test = train_test_split(df, test_size=0.2, random_state=1)",
   "outputs": [],
   "execution_count": 3
  },
  {
   "metadata": {},
   "cell_type": "markdown",
   "source": "## Model Training",
   "id": "7dd855448a6d94ed"
  },
  {
   "metadata": {
    "ExecuteTime": {
     "end_time": "2025-10-29T15:14:24.109383Z",
     "start_time": "2025-10-29T15:14:24.107108Z"
    }
   },
   "cell_type": "code",
   "source": [
    "# def one_hot_encoding(df, dv=None):\n",
    "# \tdicts = df.to_dict(orient='records')\n",
    "#\n",
    "# \tif not dv:\n",
    "# \t\tdv = DictVectorizer(sparse=False, dtype=np.int32)\n",
    "# \t\tdv.fit(dicts)\n",
    "#\n",
    "# \tX = dv.transform(dicts)\n",
    "#\n",
    "# \treturn X, dv"
   ],
   "id": "d267996bf71e36ba",
   "outputs": [],
   "execution_count": 4
  },
  {
   "metadata": {
    "ExecuteTime": {
     "end_time": "2025-10-29T15:14:24.121278Z",
     "start_time": "2025-10-29T15:14:24.115951Z"
    }
   },
   "cell_type": "code",
   "source": [
    "def one_hot_encoding(df, dv=None):\n",
    "\tdf.reset_index(drop=True, inplace=True)\n",
    "\tdf_categorical = df.select_dtypes(exclude='number')\n",
    "\tdf_numerical = df.select_dtypes('number')\n",
    "\n",
    "\tif not dv:\n",
    "\t\tdv = OneHotEncoder(sparse_output=False, dtype=np.int32)\n",
    "\t\tdv.fit(df_categorical)\n",
    "\n",
    "\tdf_encoded = pd.DataFrame(\n",
    "\t\tdata=dv.transform(df_categorical),\n",
    "\t\tcolumns=dv.get_feature_names_out())\n",
    "\n",
    "\tX = pd.concat([df_encoded, df_numerical], ignore_index=True, axis=1)\n",
    "\n",
    "\treturn X.values, dv"
   ],
   "id": "1f0f6eb172647189",
   "outputs": [],
   "execution_count": 5
  },
  {
   "metadata": {
    "ExecuteTime": {
     "end_time": "2025-10-29T15:14:24.131584Z",
     "start_time": "2025-10-29T15:14:24.127662Z"
    }
   },
   "cell_type": "code",
   "source": [
    "def train(df, y, C=1.0):\n",
    "\t# encode the data\n",
    "\tX, dv = one_hot_encoding(df)\n",
    "\n",
    "\t# train a model\n",
    "\tmodel = LogisticRegression(C=C, max_iter=10000)\n",
    "\tmodel.fit(X, y)\n",
    "\n",
    "\t# return encoder and model\n",
    "\treturn dv, model"
   ],
   "id": "6192dc10f656384c",
   "outputs": [],
   "execution_count": 6
  },
  {
   "metadata": {
    "ExecuteTime": {
     "end_time": "2025-10-29T15:14:24.141125Z",
     "start_time": "2025-10-29T15:14:24.138007Z"
    }
   },
   "cell_type": "code",
   "source": [
    "def predict(df, dv, model):\n",
    "\t# encode the data\n",
    "\tX, _ = one_hot_encoding(df, dv)\n",
    "\n",
    "\t# generate prediction probabilities\n",
    "\tpred = model.predict_proba(X)[:, 1]\n",
    "\n",
    "\treturn pred"
   ],
   "id": "2f0f9b53e9d23cbc",
   "outputs": [],
   "execution_count": 7
  },
  {
   "cell_type": "code",
   "id": "a8fe7363",
   "metadata": {
    "ExecuteTime": {
     "end_time": "2025-10-29T15:14:24.149801Z",
     "start_time": "2025-10-29T15:14:24.147405Z"
    }
   },
   "source": [
    "n_splits = 5\n",
    "C = 1.0"
   ],
   "outputs": [],
   "execution_count": 8
  },
  {
   "cell_type": "code",
   "id": "ce936aca",
   "metadata": {
    "ExecuteTime": {
     "end_time": "2025-10-29T15:14:27.053151Z",
     "start_time": "2025-10-29T15:14:24.159127Z"
    }
   },
   "source": [
    "kfold = KFold(n_splits=n_splits, shuffle=True, random_state=1)\n",
    "\n",
    "scores = []\n",
    "\n",
    "for train_idx, val_idx in kfold.split(df_full_train):\n",
    "\t# randomly split training and validation sets\n",
    "\tdf_train = df_full_train.iloc[train_idx]\n",
    "\tdf_val = df_full_train.iloc[val_idx]\n",
    "\n",
    "\ty_train = df_train.churn.values\n",
    "\ty_val = df_val.churn.values\n",
    "\n",
    "\tdf_train = df_train.drop('churn', axis=1)\n",
    "\tdf_val = df_val.drop('churn', axis=1)\n",
    "\n",
    "    # train and validate the model\n",
    "\tdv, model = train(df_train, y_train, C=C)\n",
    "\ty_pred = predict(df_val, dv, model)\n",
    "\n",
    "\tauc = roc_auc_score(y_val, y_pred)\n",
    "\tscores.append(auc)\n",
    "\n",
    "print('C=%s %.3f +- %.3f' % (C, np.mean(scores), np.std(scores)))"
   ],
   "outputs": [
    {
     "name": "stdout",
     "output_type": "stream",
     "text": [
      "C=1.0 0.842 +- 0.007\n"
     ]
    }
   ],
   "execution_count": 9
  },
  {
   "metadata": {
    "ExecuteTime": {
     "end_time": "2025-10-29T15:14:37.150032Z",
     "start_time": "2025-10-29T15:14:37.140960Z"
    }
   },
   "cell_type": "code",
   "source": "scores",
   "id": "9a522c26a1feac0d",
   "outputs": [
    {
     "data": {
      "text/plain": [
       "[0.8443532117653525,\n",
       " 0.8451343365117203,\n",
       " 0.8332811559301626,\n",
       " 0.8347529097653001,\n",
       " 0.8518363088701326]"
      ]
     },
     "execution_count": 10,
     "metadata": {},
     "output_type": "execute_result"
    }
   ],
   "execution_count": 10
  },
  {
   "metadata": {},
   "cell_type": "markdown",
   "source": "## Model Validation",
   "id": "d12099680c038edc"
  },
  {
   "metadata": {
    "ExecuteTime": {
     "end_time": "2025-10-29T15:14:37.175479Z",
     "start_time": "2025-10-29T15:14:37.162266Z"
    }
   },
   "cell_type": "code",
   "source": [
    "y_full_train = df_full_train.churn.values\n",
    "y_test = df_test.churn.values\n",
    "\n",
    "df_full_train = df_full_train.drop('churn', axis=1)\n",
    "df_test = df_test.drop('churn', axis=1)"
   ],
   "id": "439bdb850600c30b",
   "outputs": [],
   "execution_count": 11
  },
  {
   "metadata": {
    "ExecuteTime": {
     "end_time": "2025-10-29T15:14:38.287861Z",
     "start_time": "2025-10-29T15:14:37.186261Z"
    }
   },
   "cell_type": "code",
   "source": "dv, model = train(df_full_train, y_full_train, C=1.0)",
   "id": "60486a1430d09414",
   "outputs": [],
   "execution_count": 12
  },
  {
   "metadata": {
    "ExecuteTime": {
     "end_time": "2025-10-29T15:14:38.372824Z",
     "start_time": "2025-10-29T15:14:38.340252Z"
    }
   },
   "cell_type": "code",
   "source": [
    "y_pred = predict(df_test, dv, model)\n",
    "auc = roc_auc_score(y_test, y_pred)\n",
    "auc"
   ],
   "id": "b6298e71610036cc",
   "outputs": [
    {
     "data": {
      "text/plain": [
       "0.8584898761740714"
      ]
     },
     "execution_count": 13,
     "metadata": {},
     "output_type": "execute_result"
    }
   ],
   "execution_count": 13
  },
  {
   "metadata": {},
   "cell_type": "markdown",
   "source": "## Model Saving",
   "id": "81f6f8c6f2e02c87"
  },
  {
   "metadata": {
    "ExecuteTime": {
     "end_time": "2025-10-29T15:14:38.384324Z",
     "start_time": "2025-10-29T15:14:38.380452Z"
    }
   },
   "cell_type": "code",
   "source": "output_file = f'model_C={C}.bin'",
   "id": "63e62e6d88de87ab",
   "outputs": [],
   "execution_count": 14
  },
  {
   "metadata": {
    "ExecuteTime": {
     "end_time": "2025-10-29T15:14:38.404846Z",
     "start_time": "2025-10-29T15:14:38.399314Z"
    }
   },
   "cell_type": "code",
   "source": [
    "with open(output_file, 'wb') as f_out:\n",
    "    pickle.dump((dv, model), f_out)"
   ],
   "id": "8af0a25a250a57ed",
   "outputs": [],
   "execution_count": 15
  },
  {
   "metadata": {
    "ExecuteTime": {
     "end_time": "2025-10-29T15:14:38.413633Z",
     "start_time": "2025-10-29T15:14:38.410858Z"
    }
   },
   "cell_type": "code",
   "source": "input_file = 'model_C=1.0.bin'",
   "id": "c39a35c3d52df5ab",
   "outputs": [],
   "execution_count": 16
  },
  {
   "metadata": {
    "ExecuteTime": {
     "end_time": "2025-10-29T15:14:38.431403Z",
     "start_time": "2025-10-29T15:14:38.422226Z"
    }
   },
   "cell_type": "code",
   "source": [
    "with open(input_file, 'rb') as f_in:\n",
    "    dv, model = pickle.load(f_in)"
   ],
   "id": "c800200cdb8e1c48",
   "outputs": [],
   "execution_count": 17
  },
  {
   "metadata": {
    "ExecuteTime": {
     "end_time": "2025-10-29T15:16:38.966178Z",
     "start_time": "2025-10-29T15:16:38.949958Z"
    }
   },
   "cell_type": "code",
   "source": [
    "# X = dv.transform(df_test.iloc[[170]])\n",
    "X, _ = one_hot_encoding(df_test.iloc[[170]], dv)"
   ],
   "id": "613e1dc828aa9121",
   "outputs": [],
   "execution_count": 21
  },
  {
   "metadata": {
    "ExecuteTime": {
     "end_time": "2025-10-29T15:16:39.415573Z",
     "start_time": "2025-10-29T15:16:39.410233Z"
    }
   },
   "cell_type": "code",
   "source": "y_pred = model.predict_proba(X)[0, 1]",
   "id": "b6ee3661f77f6a6e",
   "outputs": [],
   "execution_count": 22
  },
  {
   "metadata": {
    "ExecuteTime": {
     "end_time": "2025-10-29T15:16:40.645482Z",
     "start_time": "2025-10-29T15:16:40.640547Z"
    }
   },
   "cell_type": "code",
   "source": "print('prediction probabilities:', y_pred)",
   "id": "690df4dadc95f1e5",
   "outputs": [
    {
     "name": "stdout",
     "output_type": "stream",
     "text": [
      "prediction probabilities: 0.7102842349018084\n"
     ]
    }
   ],
   "execution_count": 23
  }
 ],
 "metadata": {
  "kernelspec": {
   "display_name": "Python 3 (ipykernel)",
   "language": "python",
   "name": "python3"
  },
  "language_info": {
   "codemirror_mode": {
    "name": "ipython",
    "version": 3
   },
   "file_extension": ".py",
   "mimetype": "text/x-python",
   "name": "python",
   "nbconvert_exporter": "python",
   "pygments_lexer": "ipython3",
   "version": "3.8.11"
  }
 },
 "nbformat": 4,
 "nbformat_minor": 5
}
