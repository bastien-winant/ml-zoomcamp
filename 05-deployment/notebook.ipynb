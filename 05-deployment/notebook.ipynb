{
 "cells": [
  {
   "cell_type": "code",
   "id": "b3ff7c44",
   "metadata": {
    "ExecuteTime": {
     "end_time": "2025-10-28T22:23:04.464282Z",
     "start_time": "2025-10-28T22:23:00.967138Z"
    }
   },
   "source": [
    "import pandas as pd\n",
    "import numpy as np\n",
    "\n",
    "from sklearn.preprocessing import OneHotEncoder\n",
    "from sklearn.linear_model import LogisticRegression\n",
    "\n",
    "from sklearn.model_selection import KFold, train_test_split\n",
    "from sklearn.metrics import roc_auc_score\n",
    "\n",
    "import pickle"
   ],
   "outputs": [
    {
     "name": "stderr",
     "output_type": "stream",
     "text": [
      "ERROR:tornado.general:Uncaught exception in ZMQStream callback\n",
      "Traceback (most recent call last):\n",
      "  File \"/Users/bastienwinant/Desktop/projects/ml-zoomcamp/.venv/lib/python3.9/site-packages/traitlets/traitlets.py\", line 632, in get\n",
      "    value = obj._trait_values[self.name]\n",
      "KeyError: '_control_lock'\n",
      "\n",
      "During handling of the above exception, another exception occurred:\n",
      "\n",
      "Traceback (most recent call last):\n",
      "  File \"/Users/bastienwinant/Desktop/projects/ml-zoomcamp/.venv/lib/python3.9/site-packages/zmq/eventloop/zmqstream.py\", line 565, in _log_error\n",
      "    f.result()\n",
      "  File \"/Users/bastienwinant/Desktop/projects/ml-zoomcamp/.venv/lib/python3.9/site-packages/ipykernel/kernelbase.py\", line 301, in dispatch_control\n",
      "    async with self._control_lock:\n",
      "  File \"/Users/bastienwinant/Desktop/projects/ml-zoomcamp/.venv/lib/python3.9/site-packages/traitlets/traitlets.py\", line 687, in __get__\n",
      "    return t.cast(G, self.get(obj, cls))  # the G should encode the Optional\n",
      "  File \"/Users/bastienwinant/Desktop/projects/ml-zoomcamp/.venv/lib/python3.9/site-packages/traitlets/traitlets.py\", line 649, in get\n",
      "    value = self._validate(obj, default)\n",
      "  File \"/Users/bastienwinant/Desktop/projects/ml-zoomcamp/.venv/lib/python3.9/site-packages/traitlets/traitlets.py\", line 722, in _validate\n",
      "    value = self.validate(obj, value)\n",
      "  File \"/Users/bastienwinant/Desktop/projects/ml-zoomcamp/.venv/lib/python3.9/site-packages/traitlets/traitlets.py\", line 2311, in validate\n",
      "    self.error(obj, value)\n",
      "  File \"/Users/bastienwinant/Desktop/projects/ml-zoomcamp/.venv/lib/python3.9/site-packages/traitlets/traitlets.py\", line 831, in error\n",
      "    raise TraitError(e)\n",
      "traitlets.traitlets.TraitError: The '_control_lock' trait of an IPythonKernel instance expected a Lock, not the NoneType None.\n"
     ]
    }
   ],
   "execution_count": 1
  },
  {
   "metadata": {},
   "cell_type": "markdown",
   "source": "## Data Preprocessing",
   "id": "b48c2134f85333a3"
  },
  {
   "cell_type": "code",
   "id": "81ee3ecc",
   "metadata": {
    "ExecuteTime": {
     "end_time": "2025-10-28T22:23:04.871158Z",
     "start_time": "2025-10-28T22:23:04.472222Z"
    }
   },
   "source": [
    "url = \"https://raw.githubusercontent.com/alexeygrigorev/mlbookcamp-code/master/chapter-03-churn-prediction/WA_Fn-UseC_-Telco-Customer-Churn.csv\"\n",
    "df = pd.read_csv(url)\n",
    "\n",
    "df.columns = df.columns.str.lower().str.replace(' ', '_')\n",
    "\n",
    "categorical_columns = df.select_dtypes(exclude='number').columns\n",
    "\n",
    "for c in categorical_columns:\n",
    "    df[c] = df[c].str.lower().str.replace(' ', '_')\n",
    "\n",
    "df.totalcharges = pd.to_numeric(df.totalcharges, errors='coerce')\n",
    "df.totalcharges = df.totalcharges.fillna(0)\n",
    "\n",
    "df.churn = (df.churn == 'yes').astype(int)"
   ],
   "outputs": [],
   "execution_count": 2
  },
  {
   "cell_type": "code",
   "id": "0b1903b3",
   "metadata": {
    "ExecuteTime": {
     "end_time": "2025-10-28T22:23:04.890260Z",
     "start_time": "2025-10-28T22:23:04.879506Z"
    }
   },
   "source": "df_full_train, df_test = train_test_split(df, test_size=0.2, random_state=1)",
   "outputs": [],
   "execution_count": 3
  },
  {
   "cell_type": "code",
   "id": "ab4132a4",
   "metadata": {
    "ExecuteTime": {
     "end_time": "2025-10-28T22:23:04.902822Z",
     "start_time": "2025-10-28T22:23:04.897745Z"
    }
   },
   "source": [
    "numerical = ['tenure', 'monthlycharges', 'totalcharges']\n",
    "\n",
    "categorical = [\n",
    "    'gender',\n",
    "    'seniorcitizen',\n",
    "    'partner',\n",
    "    'dependents',\n",
    "    'phoneservice',\n",
    "    'multiplelines',\n",
    "    'internetservice',\n",
    "    'onlinesecurity',\n",
    "    'onlinebackup',\n",
    "    'deviceprotection',\n",
    "    'techsupport',\n",
    "    'streamingtv',\n",
    "    'streamingmovies',\n",
    "    'contract',\n",
    "    'paperlessbilling',\n",
    "    'paymentmethod',\n",
    "]"
   ],
   "outputs": [],
   "execution_count": 4
  },
  {
   "metadata": {},
   "cell_type": "markdown",
   "source": "## Model Training",
   "id": "7dd855448a6d94ed"
  },
  {
   "metadata": {
    "ExecuteTime": {
     "end_time": "2025-10-28T22:23:04.917573Z",
     "start_time": "2025-10-28T22:23:04.911201Z"
    }
   },
   "cell_type": "code",
   "source": [
    "def one_hot_encoding(df, enc=None):\n",
    "\tdf.reset_index(drop=True, inplace=True)\n",
    "\n",
    "\t# separate numerical and categorical features\n",
    "\tdf_numerical = df.select_dtypes('number')\n",
    "\tdf_categorical = df.select_dtypes(exclude='number')\n",
    "\n",
    "\t# fit a new encoder on the categorical data\n",
    "\tif not enc:\n",
    "\t\tenc = OneHotEncoder(dtype=np.int64, sparse_output=False, handle_unknown='ignore')\n",
    "\t\tenc.fit(df_categorical)\n",
    "\n",
    "\tdf_encoded = pd.DataFrame(\n",
    "\t\tdata=enc.transform(df_categorical),\n",
    "\t\tcolumns=enc.get_feature_names_out())\n",
    "\n",
    "\t# combine encodings and numerical features\n",
    "\tX = pd.concat([df_numerical, df_encoded], axis=1)\n",
    "\n",
    "\treturn X.values, enc"
   ],
   "id": "d267996bf71e36ba",
   "outputs": [],
   "execution_count": 5
  },
  {
   "metadata": {
    "ExecuteTime": {
     "end_time": "2025-10-28T22:23:04.929257Z",
     "start_time": "2025-10-28T22:23:04.924601Z"
    }
   },
   "cell_type": "code",
   "source": [
    "def train(df, y, C=1.0):\n",
    "\t# encode the data\n",
    "\tX, enc = one_hot_encoding(df)\n",
    "\n",
    "\t# train a model\n",
    "\tmodel = LogisticRegression(C=C, max_iter=10000)\n",
    "\tmodel.fit(X, y)\n",
    "\n",
    "\t# return encoder and model\n",
    "\treturn enc, model"
   ],
   "id": "6192dc10f656384c",
   "outputs": [],
   "execution_count": 6
  },
  {
   "metadata": {
    "ExecuteTime": {
     "end_time": "2025-10-28T22:23:04.942164Z",
     "start_time": "2025-10-28T22:23:04.938148Z"
    }
   },
   "cell_type": "code",
   "source": [
    "def predict(df, enc, model):\n",
    "\t# encode the data\n",
    "\tX, _ = one_hot_encoding(df, enc)\n",
    "\n",
    "\t# generate prediction probabilities\n",
    "\ty_pred = model.predict_proba(X)[:, 1]\n",
    "\n",
    "\treturn y_pred"
   ],
   "id": "2f0f9b53e9d23cbc",
   "outputs": [],
   "execution_count": 7
  },
  {
   "cell_type": "code",
   "id": "a8fe7363",
   "metadata": {
    "ExecuteTime": {
     "end_time": "2025-10-28T22:23:04.958416Z",
     "start_time": "2025-10-28T22:23:04.954557Z"
    }
   },
   "source": [
    "n_splits = 5\n",
    "C = 1.0"
   ],
   "outputs": [],
   "execution_count": 8
  },
  {
   "cell_type": "code",
   "id": "ce936aca",
   "metadata": {
    "ExecuteTime": {
     "end_time": "2025-10-28T22:27:33.682038Z",
     "start_time": "2025-10-28T22:23:04.971263Z"
    }
   },
   "source": [
    "kfold = KFold(n_splits=n_splits, shuffle=True, random_state=1)\n",
    "\n",
    "scores = []\n",
    "\n",
    "for train_idx, val_idx in kfold.split(df_full_train):\n",
    "\tdf_train = df_full_train.iloc[train_idx]\n",
    "\tdf_val = df_full_train.iloc[val_idx]\n",
    "\n",
    "\ty_train = df_train.churn.values\n",
    "\ty_val = df_val.churn.values\n",
    "\n",
    "\tdf_train = df_train.drop('churn', axis=1)\n",
    "\tdf_val = df_val.drop('churn', axis=1)\n",
    "\n",
    "\tenc, model = train(df_train, y_train, C=C)\n",
    "\ty_pred = predict(df_val, enc, model)\n",
    "\n",
    "\tauc = roc_auc_score(y_val, y_pred)\n",
    "\tscores.append(auc)\n",
    "\n",
    "print('C=%s %.3f +- %.3f' % (C, np.mean(scores), np.std(scores)))"
   ],
   "outputs": [
    {
     "name": "stdout",
     "output_type": "stream",
     "text": [
      "C=1.0 0.842 +- 0.007\n"
     ]
    }
   ],
   "execution_count": 9
  },
  {
   "metadata": {
    "ExecuteTime": {
     "end_time": "2025-10-28T22:27:45.889090Z",
     "start_time": "2025-10-28T22:27:45.878170Z"
    }
   },
   "cell_type": "code",
   "source": "scores",
   "id": "9a522c26a1feac0d",
   "outputs": [
    {
     "data": {
      "text/plain": [
       "[0.8446711306136225,\n",
       " 0.8451136438882266,\n",
       " 0.833241019466185,\n",
       " 0.8344451461277739,\n",
       " 0.851142104107182]"
      ]
     },
     "execution_count": 10,
     "metadata": {},
     "output_type": "execute_result"
    }
   ],
   "execution_count": 10
  },
  {
   "metadata": {},
   "cell_type": "markdown",
   "source": "## Model Validation",
   "id": "d12099680c038edc"
  },
  {
   "metadata": {
    "ExecuteTime": {
     "end_time": "2025-10-28T22:27:45.919466Z",
     "start_time": "2025-10-28T22:27:45.899745Z"
    }
   },
   "cell_type": "code",
   "source": [
    "y_full_train = df_full_train.churn.values\n",
    "y_test = df_test.churn.values\n",
    "\n",
    "df_full_train = df_full_train.drop('churn', axis=1)\n",
    "df_test = df_test.drop('churn', axis=1)"
   ],
   "id": "439bdb850600c30b",
   "outputs": [],
   "execution_count": 11
  },
  {
   "metadata": {
    "ExecuteTime": {
     "end_time": "2025-10-28T22:29:02.408068Z",
     "start_time": "2025-10-28T22:27:45.927797Z"
    }
   },
   "cell_type": "code",
   "source": "enc, model = train(df_full_train, y_full_train, C=1.0)",
   "id": "60486a1430d09414",
   "outputs": [],
   "execution_count": 12
  },
  {
   "metadata": {
    "ExecuteTime": {
     "end_time": "2025-10-28T22:29:02.699773Z",
     "start_time": "2025-10-28T22:29:02.514864Z"
    }
   },
   "cell_type": "code",
   "source": [
    "y_pred = predict(df_test, enc, model)\n",
    "auc = roc_auc_score(y_test, y_pred)\n",
    "auc"
   ],
   "id": "b6298e71610036cc",
   "outputs": [
    {
     "data": {
      "text/plain": [
       "0.85836258355271"
      ]
     },
     "execution_count": 13,
     "metadata": {},
     "output_type": "execute_result"
    }
   ],
   "execution_count": 13
  },
  {
   "metadata": {},
   "cell_type": "markdown",
   "source": "## Model Saving",
   "id": "81f6f8c6f2e02c87"
  },
  {
   "metadata": {
    "ExecuteTime": {
     "end_time": "2025-10-28T22:29:02.718750Z",
     "start_time": "2025-10-28T22:29:02.715185Z"
    }
   },
   "cell_type": "code",
   "source": "output_file = f'model_C={C}.bin'",
   "id": "63e62e6d88de87ab",
   "outputs": [],
   "execution_count": 14
  },
  {
   "metadata": {
    "ExecuteTime": {
     "end_time": "2025-10-28T22:29:02.732831Z",
     "start_time": "2025-10-28T22:29:02.727198Z"
    }
   },
   "cell_type": "code",
   "source": [
    "with open(output_file, 'wb') as f_out:\n",
    "    pickle.dump((enc, model), f_out)"
   ],
   "id": "8af0a25a250a57ed",
   "outputs": [],
   "execution_count": 15
  },
  {
   "metadata": {
    "ExecuteTime": {
     "end_time": "2025-10-28T22:29:02.743782Z",
     "start_time": "2025-10-28T22:29:02.740342Z"
    }
   },
   "cell_type": "code",
   "source": "input_file = 'model_C=1.0.bin'",
   "id": "c39a35c3d52df5ab",
   "outputs": [],
   "execution_count": 16
  },
  {
   "metadata": {
    "ExecuteTime": {
     "end_time": "2025-10-28T22:29:02.764387Z",
     "start_time": "2025-10-28T22:29:02.752126Z"
    }
   },
   "cell_type": "code",
   "source": [
    "with open(input_file, 'rb') as f_in:\n",
    "    enc, model = pickle.load(f_in)"
   ],
   "id": "c800200cdb8e1c48",
   "outputs": [],
   "execution_count": 17
  },
  {
   "metadata": {
    "ExecuteTime": {
     "end_time": "2025-10-28T22:29:02.775531Z",
     "start_time": "2025-10-28T22:29:02.771569Z"
    }
   },
   "cell_type": "code",
   "source": [
    "customer = {\n",
    "    'gender': 'female',\n",
    "    'seniorcitizen': 0,\n",
    "    'partner': 'yes',\n",
    "    'dependents': 'no',\n",
    "    'phoneservice': 'no',\n",
    "    'multiplelines': 'no_phone_service',\n",
    "    'internetservice': 'dsl',\n",
    "    'onlinesecurity': 'no',\n",
    "    'onlinebackup': 'yes',\n",
    "    'deviceprotection': 'no',\n",
    "    'techsupport': 'no',\n",
    "    'streamingtv': 'no',\n",
    "    'streamingmovies': 'no',\n",
    "    'contract': 'month-to-month',\n",
    "    'paperlessbilling': 'yes',\n",
    "    'paymentmethod': 'electronic_check',\n",
    "    'tenure': 1,\n",
    "    'monthlycharges': 29.85,\n",
    "    'totalcharges': 29.85\n",
    "}"
   ],
   "id": "d2196f36c7f4b62a",
   "outputs": [],
   "execution_count": 18
  },
  {
   "metadata": {
    "ExecuteTime": {
     "end_time": "2025-10-28T22:35:41.669962Z",
     "start_time": "2025-10-28T22:35:41.639752Z"
    }
   },
   "cell_type": "code",
   "source": "X, _ = one_hot_encoding(df_test.iloc[[40]], enc)",
   "id": "d6e044b88ecc6518",
   "outputs": [],
   "execution_count": 31
  },
  {
   "metadata": {
    "ExecuteTime": {
     "end_time": "2025-10-28T22:35:42.016300Z",
     "start_time": "2025-10-28T22:35:42.011533Z"
    }
   },
   "cell_type": "code",
   "source": "y_pred = model.predict_proba(X)[0, 1]",
   "id": "b6ee3661f77f6a6e",
   "outputs": [],
   "execution_count": 32
  },
  {
   "metadata": {
    "ExecuteTime": {
     "end_time": "2025-10-28T22:35:48.288608Z",
     "start_time": "2025-10-28T22:35:48.284577Z"
    }
   },
   "cell_type": "code",
   "source": [
    "print('input:', customer)\n",
    "print('output:', y_pred)"
   ],
   "id": "690df4dadc95f1e5",
   "outputs": [
    {
     "name": "stdout",
     "output_type": "stream",
     "text": [
      "input: {'gender': 'female', 'seniorcitizen': 0, 'partner': 'yes', 'dependents': 'no', 'phoneservice': 'no', 'multiplelines': 'no_phone_service', 'internetservice': 'dsl', 'onlinesecurity': 'no', 'onlinebackup': 'yes', 'deviceprotection': 'no', 'techsupport': 'no', 'streamingtv': 'no', 'streamingmovies': 'no', 'contract': 'month-to-month', 'paperlessbilling': 'yes', 'paymentmethod': 'electronic_check', 'tenure': 1, 'monthlycharges': 29.85, 'totalcharges': 29.85}\n",
      "output: 0.0036756198085913534\n"
     ]
    }
   ],
   "execution_count": 33
  }
 ],
 "metadata": {
  "kernelspec": {
   "display_name": "Python 3 (ipykernel)",
   "language": "python",
   "name": "python3"
  },
  "language_info": {
   "codemirror_mode": {
    "name": "ipython",
    "version": 3
   },
   "file_extension": ".py",
   "mimetype": "text/x-python",
   "name": "python",
   "nbconvert_exporter": "python",
   "pygments_lexer": "ipython3",
   "version": "3.8.11"
  }
 },
 "nbformat": 4,
 "nbformat_minor": 5
}
