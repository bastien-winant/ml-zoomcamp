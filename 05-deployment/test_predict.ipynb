{
 "cells": [
  {
   "metadata": {
    "ExecuteTime": {
     "end_time": "2025-10-27T18:20:29.344955Z",
     "start_time": "2025-10-27T18:20:29.340773Z"
    }
   },
   "cell_type": "code",
   "source": "import requests",
   "id": "2dd0d15a12788f4c",
   "outputs": [],
   "execution_count": 15
  },
  {
   "cell_type": "code",
   "id": "initial_id",
   "metadata": {
    "collapsed": true,
    "ExecuteTime": {
     "end_time": "2025-10-27T18:20:29.364932Z",
     "start_time": "2025-10-27T18:20:29.360172Z"
    }
   },
   "source": [
    "customer = {\n",
    "    \"gender\": \"male\",\n",
    "    \"seniorcitizen\": 0,\n",
    "    \"partner\": \"yes\",\n",
    "    \"dependents\": \"no\",\n",
    "    \"tenure\": 2,\n",
    "    \"phoneservice\": \"no\",\n",
    "    \"multiplelines\": \"no\",\n",
    "    \"internetservice\": \"fiber_optic\",\n",
    "    \"onlinesecurity\": \"no\",\n",
    "    \"onlinebackup\": \"no\",\n",
    "    \"deviceprotection\": \"no\",\n",
    "    \"techsupport\": \"yes\",\n",
    "    \"streamingtv\": \"no\",\n",
    "    \"streamingmovies\": \"no\",\n",
    "    \"contract\": \"one_year\",\n",
    "    \"paperlessbilling\": \"yes\",\n",
    "    \"paymentmethod\": \"electronic_check\",\n",
    "    \"monthlycharges\": 129.05,\n",
    "    \"totalcharges\": 2177.45\n",
    "}"
   ],
   "outputs": [],
   "execution_count": 16
  },
  {
   "metadata": {
    "ExecuteTime": {
     "end_time": "2025-10-27T18:20:29.375917Z",
     "start_time": "2025-10-27T18:20:29.372134Z"
    }
   },
   "cell_type": "code",
   "source": "url = 'http://127.0.0.1:9696/predict'",
   "id": "29959f9356441247",
   "outputs": [],
   "execution_count": 17
  },
  {
   "metadata": {
    "ExecuteTime": {
     "end_time": "2025-10-27T18:20:29.401434Z",
     "start_time": "2025-10-27T18:20:29.388853Z"
    }
   },
   "cell_type": "code",
   "source": "response = requests.post(url, json=customer).json()",
   "id": "c4d78709ee07ee52",
   "outputs": [],
   "execution_count": 18
  },
  {
   "metadata": {
    "ExecuteTime": {
     "end_time": "2025-10-27T18:20:29.419739Z",
     "start_time": "2025-10-27T18:20:29.413131Z"
    }
   },
   "cell_type": "code",
   "source": "response",
   "id": "7a38936f7a3805b",
   "outputs": [
    {
     "data": {
      "text/plain": [
       "{'churn': True, 'churn_probability': 0.5007209376952443}"
      ]
     },
     "execution_count": 19,
     "metadata": {},
     "output_type": "execute_result"
    }
   ],
   "execution_count": 19
  },
  {
   "metadata": {
    "ExecuteTime": {
     "end_time": "2025-10-27T18:20:29.435540Z",
     "start_time": "2025-10-27T18:20:29.433406Z"
    }
   },
   "cell_type": "code",
   "source": "",
   "id": "cf24446633aa159c",
   "outputs": [],
   "execution_count": null
  }
 ],
 "metadata": {
  "kernelspec": {
   "display_name": "Python 3",
   "language": "python",
   "name": "python3"
  },
  "language_info": {
   "codemirror_mode": {
    "name": "ipython",
    "version": 2
   },
   "file_extension": ".py",
   "mimetype": "text/x-python",
   "name": "python",
   "nbconvert_exporter": "python",
   "pygments_lexer": "ipython2",
   "version": "2.7.6"
  }
 },
 "nbformat": 4,
 "nbformat_minor": 5
}
